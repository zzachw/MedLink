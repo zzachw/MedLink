{
 "cells": [
  {
   "cell_type": "code",
   "execution_count": 1,
   "metadata": {
    "ExecuteTime": {
     "end_time": "2022-01-24T05:53:37.093513Z",
     "start_time": "2022-01-24T05:53:37.081606Z"
    },
    "pycharm": {
     "name": "#%%\n"
    }
   },
   "outputs": [
    {
     "name": "stdout",
     "output_type": "stream",
     "text": [
      "/home/zw12/MedLink/src\n"
     ]
    }
   ],
   "source": [
    "import os\n",
    "import sys\n",
    "\n",
    "src_path = os.path.abspath('..')\n",
    "print(src_path)\n",
    "sys.path.append(src_path)"
   ]
  },
  {
   "cell_type": "code",
   "execution_count": 2,
   "metadata": {
    "ExecuteTime": {
     "end_time": "2022-01-24T05:53:37.812252Z",
     "start_time": "2022-01-24T05:53:37.096447Z"
    },
    "pycharm": {
     "name": "#%%\n"
    }
   },
   "outputs": [],
   "source": [
    "from utils import data_path, set_seed, create_directory"
   ]
  },
  {
   "cell_type": "code",
   "execution_count": 3,
   "metadata": {
    "ExecuteTime": {
     "end_time": "2022-01-24T05:53:38.461794Z",
     "start_time": "2022-01-24T05:53:37.813980Z"
    },
    "pycharm": {
     "name": "#%%\n"
    }
   },
   "outputs": [],
   "source": [
    "import csv\n",
    "import json\n",
    "from datetime import datetime\n",
    "from collections import Counter, OrderedDict\n",
    "import random\n",
    "import pandas as pd\n",
    "import numpy as np\n",
    "from itertools import chain"
   ]
  },
  {
   "cell_type": "code",
   "execution_count": 4,
   "metadata": {
    "ExecuteTime": {
     "end_time": "2022-01-24T05:53:38.469691Z",
     "start_time": "2022-01-24T05:53:38.464960Z"
    },
    "pycharm": {
     "name": "#%%\n"
    }
   },
   "outputs": [],
   "source": [
    "set_seed(seed=42)"
   ]
  },
  {
   "cell_type": "markdown",
   "metadata": {
    "pycharm": {
     "name": "#%% md\n"
    }
   },
   "source": [
    "## read data"
   ]
  },
  {
   "cell_type": "code",
   "execution_count": 5,
   "metadata": {
    "ExecuteTime": {
     "end_time": "2022-01-24T05:53:38.747548Z",
     "start_time": "2022-01-24T05:53:38.473858Z"
    },
    "pycharm": {
     "name": "#%%\n"
    }
   },
   "outputs": [
    {
     "data": {
      "text/html": [
       "<div>\n",
       "<style scoped>\n",
       "    .dataframe tbody tr th:only-of-type {\n",
       "        vertical-align: middle;\n",
       "    }\n",
       "\n",
       "    .dataframe tbody tr th {\n",
       "        vertical-align: top;\n",
       "    }\n",
       "\n",
       "    .dataframe thead th {\n",
       "        text-align: right;\n",
       "    }\n",
       "</style>\n",
       "<table border=\"1\" class=\"dataframe\">\n",
       "  <thead>\n",
       "    <tr style=\"text-align: right;\">\n",
       "      <th></th>\n",
       "      <th>SUBJECT_ID</th>\n",
       "      <th>GENDER</th>\n",
       "      <th>HADM_ID</th>\n",
       "      <th>ADMITTIME</th>\n",
       "      <th>DISCHTIME</th>\n",
       "      <th>ADMISSION_TYPE</th>\n",
       "      <th>ADMISSION_LOCATION</th>\n",
       "      <th>DISCHARGE_LOCATION</th>\n",
       "      <th>INSURANCE</th>\n",
       "      <th>LANGUAGE</th>\n",
       "      <th>RELIGION</th>\n",
       "      <th>MARITAL_STATUS</th>\n",
       "      <th>ETHNICITY</th>\n",
       "      <th>ICD9_FULL_CODE</th>\n",
       "      <th>ICD9_3DIGIT_CODE</th>\n",
       "      <th>CCS_CODE</th>\n",
       "      <th>AGE</th>\n",
       "    </tr>\n",
       "  </thead>\n",
       "  <tbody>\n",
       "    <tr>\n",
       "      <th>0</th>\n",
       "      <td>100</td>\n",
       "      <td>F</td>\n",
       "      <td>153952</td>\n",
       "      <td>2157-08-10</td>\n",
       "      <td>2157-08-18</td>\n",
       "      <td>ELECTIVE</td>\n",
       "      <td>PHYS REFERRAL/NORMAL DELI</td>\n",
       "      <td>HOME</td>\n",
       "      <td>Private</td>\n",
       "      <td>NaN</td>\n",
       "      <td>CATHOLIC</td>\n",
       "      <td>WIDOWED</td>\n",
       "      <td>UNKNOWN/NOT SPECIFIED</td>\n",
       "      <td>4260 4411 4241 42731 99602</td>\n",
       "      <td>427 426 424 996 441</td>\n",
       "      <td>106 96 237 115 105</td>\n",
       "      <td>71.0</td>\n",
       "    </tr>\n",
       "    <tr>\n",
       "      <th>1</th>\n",
       "      <td>1000</td>\n",
       "      <td>M</td>\n",
       "      <td>143040</td>\n",
       "      <td>2144-01-19</td>\n",
       "      <td>2144-02-25</td>\n",
       "      <td>URGENT</td>\n",
       "      <td>TRANSFER FROM HOSP/EXTRAM</td>\n",
       "      <td>DEAD/EXPIRED</td>\n",
       "      <td>Private</td>\n",
       "      <td>NaN</td>\n",
       "      <td>UNOBTAINABLE</td>\n",
       "      <td>MARRIED</td>\n",
       "      <td>UNKNOWN/NOT SPECIFIED</td>\n",
       "      <td>5789 2773 4280 2851 0380 40391 78559 20300 5185</td>\n",
       "      <td>203 785 277 578 038 518 285 428 403</td>\n",
       "      <td>58 60 131 99 108 153 2 40 249</td>\n",
       "      <td>69.0</td>\n",
       "    </tr>\n",
       "    <tr>\n",
       "      <th>2</th>\n",
       "      <td>10000</td>\n",
       "      <td>M</td>\n",
       "      <td>187813</td>\n",
       "      <td>2186-08-10</td>\n",
       "      <td>2186-08-31</td>\n",
       "      <td>EMERGENCY</td>\n",
       "      <td>TRANSFER FROM HOSP/EXTRAM</td>\n",
       "      <td>SHORT TERM HOSPITAL</td>\n",
       "      <td>Self Pay</td>\n",
       "      <td>SPAN</td>\n",
       "      <td>CATHOLIC</td>\n",
       "      <td>NaN</td>\n",
       "      <td>HISPANIC OR LATINO</td>\n",
       "      <td>5845 28521 2766 25000 5997 5723 5712 0414 5770...</td>\n",
       "      <td>456 577 285 289 286 599 250 403 571 303 584 99...</td>\n",
       "      <td>163 157 55 660 238 152 99 64 49 134 3 211 151 ...</td>\n",
       "      <td>49.0</td>\n",
       "    </tr>\n",
       "    <tr>\n",
       "      <th>3</th>\n",
       "      <td>10003</td>\n",
       "      <td>M</td>\n",
       "      <td>144039</td>\n",
       "      <td>2111-11-21</td>\n",
       "      <td>2111-12-02</td>\n",
       "      <td>EMERGENCY</td>\n",
       "      <td>EMERGENCY ROOM ADMIT</td>\n",
       "      <td>HOME</td>\n",
       "      <td>Private</td>\n",
       "      <td>NaN</td>\n",
       "      <td>OTHER</td>\n",
       "      <td>MARRIED</td>\n",
       "      <td>BLACK/AFRICAN AMERICAN</td>\n",
       "      <td>82525 4582 2899 99811 4019 82523 8602 E8798 80708</td>\n",
       "      <td>860 458 998 825 289 E879 401 807</td>\n",
       "      <td>238 234 98 64 2616 230 231</td>\n",
       "      <td>41.0</td>\n",
       "    </tr>\n",
       "    <tr>\n",
       "      <th>4</th>\n",
       "      <td>10004</td>\n",
       "      <td>M</td>\n",
       "      <td>164713</td>\n",
       "      <td>2182-11-02</td>\n",
       "      <td>2182-11-19</td>\n",
       "      <td>EMERGENCY</td>\n",
       "      <td>EMERGENCY ROOM ADMIT</td>\n",
       "      <td>SNF</td>\n",
       "      <td>Medicare</td>\n",
       "      <td>ENGL</td>\n",
       "      <td>CATHOLIC</td>\n",
       "      <td>MARRIED</td>\n",
       "      <td>WHITE</td>\n",
       "      <td>E8889 78039 7837 51881 4619 5225 3484 2720 803...</td>\n",
       "      <td>272 780 518 522 348 599 461 401 783 803 507 25...</td>\n",
       "      <td>58 159 233 53 98 131 49 126 95 83 663 136 2603...</td>\n",
       "      <td>52.0</td>\n",
       "    </tr>\n",
       "    <tr>\n",
       "      <th>...</th>\n",
       "      <td>...</td>\n",
       "      <td>...</td>\n",
       "      <td>...</td>\n",
       "      <td>...</td>\n",
       "      <td>...</td>\n",
       "      <td>...</td>\n",
       "      <td>...</td>\n",
       "      <td>...</td>\n",
       "      <td>...</td>\n",
       "      <td>...</td>\n",
       "      <td>...</td>\n",
       "      <td>...</td>\n",
       "      <td>...</td>\n",
       "      <td>...</td>\n",
       "      <td>...</td>\n",
       "      <td>...</td>\n",
       "      <td>...</td>\n",
       "    </tr>\n",
       "    <tr>\n",
       "      <th>50714</th>\n",
       "      <td>9999</td>\n",
       "      <td>M</td>\n",
       "      <td>117856</td>\n",
       "      <td>2134-12-26</td>\n",
       "      <td>2134-12-28</td>\n",
       "      <td>EMERGENCY</td>\n",
       "      <td>TRANSFER FROM HOSP/EXTRAM</td>\n",
       "      <td>DEAD/EXPIRED</td>\n",
       "      <td>Medicaid</td>\n",
       "      <td>NaN</td>\n",
       "      <td>CATHOLIC</td>\n",
       "      <td>SINGLE</td>\n",
       "      <td>UNKNOWN/NOT SPECIFIED</td>\n",
       "      <td>79902 30301 2639 5711 2761 42741</td>\n",
       "      <td>799 427 571 303 263 276</td>\n",
       "      <td>55 660 52 107 244</td>\n",
       "      <td>43.0</td>\n",
       "    </tr>\n",
       "    <tr>\n",
       "      <th>50715</th>\n",
       "      <td>99991</td>\n",
       "      <td>M</td>\n",
       "      <td>151118</td>\n",
       "      <td>2184-12-24</td>\n",
       "      <td>2185-01-05</td>\n",
       "      <td>ELECTIVE</td>\n",
       "      <td>PHYS REFERRAL/NORMAL DELI</td>\n",
       "      <td>HOME</td>\n",
       "      <td>Private</td>\n",
       "      <td>ENGL</td>\n",
       "      <td>NOT SPECIFIED</td>\n",
       "      <td>MARRIED</td>\n",
       "      <td>WHITE</td>\n",
       "      <td>71947 5570 40291 5538 5644 V0254 E8788 4280 25...</td>\n",
       "      <td>553 719 V02 584 562 038 250 E878 557 789 788 4...</td>\n",
       "      <td>163 157 114 55 145 238 99 49 108 2616 204 2 15...</td>\n",
       "      <td>47.0</td>\n",
       "    </tr>\n",
       "    <tr>\n",
       "      <th>50716</th>\n",
       "      <td>99992</td>\n",
       "      <td>F</td>\n",
       "      <td>197084</td>\n",
       "      <td>2144-07-25</td>\n",
       "      <td>2144-07-28</td>\n",
       "      <td>EMERGENCY</td>\n",
       "      <td>CLINIC REFERRAL/PREMATURE</td>\n",
       "      <td>SNF</td>\n",
       "      <td>Medicare</td>\n",
       "      <td>ENGL</td>\n",
       "      <td>CATHOLIC</td>\n",
       "      <td>WIDOWED</td>\n",
       "      <td>WHITE</td>\n",
       "      <td>5699 3004 53081 5772 2851 56881 4019 72992 579...</td>\n",
       "      <td>272 569 300 579 530 577 584 729 285 999 401 568</td>\n",
       "      <td>60 157 53 238 152 98 211 138 657 155</td>\n",
       "      <td>65.0</td>\n",
       "    </tr>\n",
       "    <tr>\n",
       "      <th>50717</th>\n",
       "      <td>99995</td>\n",
       "      <td>F</td>\n",
       "      <td>137810</td>\n",
       "      <td>2147-02-08</td>\n",
       "      <td>2147-02-11</td>\n",
       "      <td>ELECTIVE</td>\n",
       "      <td>PHYS REFERRAL/NORMAL DELI</td>\n",
       "      <td>HOME</td>\n",
       "      <td>Medicare</td>\n",
       "      <td>ENGL</td>\n",
       "      <td>NOT SPECIFIED</td>\n",
       "      <td>MARRIED</td>\n",
       "      <td>WHITE</td>\n",
       "      <td>E8798 4400 99812 4241 9961 V5861 4280 99811 25...</td>\n",
       "      <td>272 V10 998 285 250 V15 E879 414 428 424 996 V...</td>\n",
       "      <td>60 114 53 238 24 49 96 108 2616 237 115 257 66...</td>\n",
       "      <td>88.0</td>\n",
       "    </tr>\n",
       "    <tr>\n",
       "      <th>50718</th>\n",
       "      <td>99999</td>\n",
       "      <td>F</td>\n",
       "      <td>113369</td>\n",
       "      <td>2117-12-30</td>\n",
       "      <td>2118-01-04</td>\n",
       "      <td>ELECTIVE</td>\n",
       "      <td>PHYS REFERRAL/NORMAL DELI</td>\n",
       "      <td>SNF</td>\n",
       "      <td>Medicare</td>\n",
       "      <td>SPAN</td>\n",
       "      <td>JEHOVAH'S WITNESS</td>\n",
       "      <td>SEPARATED</td>\n",
       "      <td>HISPANIC OR LATINO</td>\n",
       "      <td>75612 25000 4019 7861 4139</td>\n",
       "      <td>786 413 756 401 250</td>\n",
       "      <td>98 134 49 217 101</td>\n",
       "      <td>63.0</td>\n",
       "    </tr>\n",
       "  </tbody>\n",
       "</table>\n",
       "<p>50719 rows × 17 columns</p>\n",
       "</div>"
      ],
      "text/plain": [
       "       SUBJECT_ID GENDER  HADM_ID   ADMITTIME   DISCHTIME ADMISSION_TYPE  \\\n",
       "0             100      F   153952  2157-08-10  2157-08-18       ELECTIVE   \n",
       "1            1000      M   143040  2144-01-19  2144-02-25         URGENT   \n",
       "2           10000      M   187813  2186-08-10  2186-08-31      EMERGENCY   \n",
       "3           10003      M   144039  2111-11-21  2111-12-02      EMERGENCY   \n",
       "4           10004      M   164713  2182-11-02  2182-11-19      EMERGENCY   \n",
       "...           ...    ...      ...         ...         ...            ...   \n",
       "50714        9999      M   117856  2134-12-26  2134-12-28      EMERGENCY   \n",
       "50715       99991      M   151118  2184-12-24  2185-01-05       ELECTIVE   \n",
       "50716       99992      F   197084  2144-07-25  2144-07-28      EMERGENCY   \n",
       "50717       99995      F   137810  2147-02-08  2147-02-11       ELECTIVE   \n",
       "50718       99999      F   113369  2117-12-30  2118-01-04       ELECTIVE   \n",
       "\n",
       "              ADMISSION_LOCATION   DISCHARGE_LOCATION INSURANCE LANGUAGE  \\\n",
       "0      PHYS REFERRAL/NORMAL DELI                 HOME   Private      NaN   \n",
       "1      TRANSFER FROM HOSP/EXTRAM         DEAD/EXPIRED   Private      NaN   \n",
       "2      TRANSFER FROM HOSP/EXTRAM  SHORT TERM HOSPITAL  Self Pay     SPAN   \n",
       "3           EMERGENCY ROOM ADMIT                 HOME   Private      NaN   \n",
       "4           EMERGENCY ROOM ADMIT                  SNF  Medicare     ENGL   \n",
       "...                          ...                  ...       ...      ...   \n",
       "50714  TRANSFER FROM HOSP/EXTRAM         DEAD/EXPIRED  Medicaid      NaN   \n",
       "50715  PHYS REFERRAL/NORMAL DELI                 HOME   Private     ENGL   \n",
       "50716  CLINIC REFERRAL/PREMATURE                  SNF  Medicare     ENGL   \n",
       "50717  PHYS REFERRAL/NORMAL DELI                 HOME  Medicare     ENGL   \n",
       "50718  PHYS REFERRAL/NORMAL DELI                  SNF  Medicare     SPAN   \n",
       "\n",
       "                RELIGION MARITAL_STATUS               ETHNICITY  \\\n",
       "0               CATHOLIC        WIDOWED   UNKNOWN/NOT SPECIFIED   \n",
       "1           UNOBTAINABLE        MARRIED   UNKNOWN/NOT SPECIFIED   \n",
       "2               CATHOLIC            NaN      HISPANIC OR LATINO   \n",
       "3                  OTHER        MARRIED  BLACK/AFRICAN AMERICAN   \n",
       "4               CATHOLIC        MARRIED                   WHITE   \n",
       "...                  ...            ...                     ...   \n",
       "50714           CATHOLIC         SINGLE   UNKNOWN/NOT SPECIFIED   \n",
       "50715      NOT SPECIFIED        MARRIED                   WHITE   \n",
       "50716           CATHOLIC        WIDOWED                   WHITE   \n",
       "50717      NOT SPECIFIED        MARRIED                   WHITE   \n",
       "50718  JEHOVAH'S WITNESS      SEPARATED      HISPANIC OR LATINO   \n",
       "\n",
       "                                          ICD9_FULL_CODE  \\\n",
       "0                             4260 4411 4241 42731 99602   \n",
       "1        5789 2773 4280 2851 0380 40391 78559 20300 5185   \n",
       "2      5845 28521 2766 25000 5997 5723 5712 0414 5770...   \n",
       "3      82525 4582 2899 99811 4019 82523 8602 E8798 80708   \n",
       "4      E8889 78039 7837 51881 4619 5225 3484 2720 803...   \n",
       "...                                                  ...   \n",
       "50714                   79902 30301 2639 5711 2761 42741   \n",
       "50715  71947 5570 40291 5538 5644 V0254 E8788 4280 25...   \n",
       "50716  5699 3004 53081 5772 2851 56881 4019 72992 579...   \n",
       "50717  E8798 4400 99812 4241 9961 V5861 4280 99811 25...   \n",
       "50718                         75612 25000 4019 7861 4139   \n",
       "\n",
       "                                        ICD9_3DIGIT_CODE  \\\n",
       "0                                    427 426 424 996 441   \n",
       "1                    203 785 277 578 038 518 285 428 403   \n",
       "2      456 577 285 289 286 599 250 403 571 303 584 99...   \n",
       "3                       860 458 998 825 289 E879 401 807   \n",
       "4      272 780 518 522 348 599 461 401 783 803 507 25...   \n",
       "...                                                  ...   \n",
       "50714                            799 427 571 303 263 276   \n",
       "50715  553 719 V02 584 562 038 250 E878 557 789 788 4...   \n",
       "50716    272 569 300 579 530 577 584 729 285 999 401 568   \n",
       "50717  272 V10 998 285 250 V15 E879 414 428 424 996 V...   \n",
       "50718                                786 413 756 401 250   \n",
       "\n",
       "                                                CCS_CODE   AGE  \n",
       "0                                     106 96 237 115 105  71.0  \n",
       "1                          58 60 131 99 108 153 2 40 249  69.0  \n",
       "2      163 157 55 660 238 152 99 64 49 134 3 211 151 ...  49.0  \n",
       "3                             238 234 98 64 2616 230 231  41.0  \n",
       "4      58 159 233 53 98 131 49 126 95 83 663 136 2603...  52.0  \n",
       "...                                                  ...   ...  \n",
       "50714                                  55 660 52 107 244  43.0  \n",
       "50715  163 157 114 55 145 238 99 49 108 2616 204 2 15...  47.0  \n",
       "50716               60 157 53 238 152 98 211 138 657 155  65.0  \n",
       "50717  60 114 53 238 24 49 96 108 2616 237 115 257 66...  88.0  \n",
       "50718                                  98 134 49 217 101  63.0  \n",
       "\n",
       "[50719 rows x 17 columns]"
      ]
     },
     "execution_count": 5,
     "metadata": {},
     "output_type": "execute_result"
    }
   ],
   "source": [
    "data = pd.read_csv(os.path.join(data_path, 'mimic3/processed/data.csv'))\n",
    "data"
   ]
  },
  {
   "cell_type": "code",
   "execution_count": 6,
   "metadata": {
    "ExecuteTime": {
     "end_time": "2022-01-24T05:53:38.784738Z",
     "start_time": "2022-01-24T05:53:38.749678Z"
    },
    "pycharm": {
     "name": "#%%\n"
    }
   },
   "outputs": [],
   "source": [
    "data.SUBJECT_ID = data.SUBJECT_ID.apply(lambda x: str(x))\n",
    "data.HADM_ID = data.HADM_ID.apply(lambda x: str(x))"
   ]
  },
  {
   "cell_type": "markdown",
   "metadata": {
    "pycharm": {
     "name": "#%% md\n"
    }
   },
   "source": [
    "## split by admissions"
   ]
  },
  {
   "cell_type": "code",
   "execution_count": 7,
   "metadata": {
    "ExecuteTime": {
     "end_time": "2022-01-24T05:53:38.820989Z",
     "start_time": "2022-01-24T05:53:38.786359Z"
    },
    "pycharm": {
     "name": "#%%\n"
    }
   },
   "outputs": [
    {
     "data": {
      "text/html": [
       "<div>\n",
       "<style scoped>\n",
       "    .dataframe tbody tr th:only-of-type {\n",
       "        vertical-align: middle;\n",
       "    }\n",
       "\n",
       "    .dataframe tbody tr th {\n",
       "        vertical-align: top;\n",
       "    }\n",
       "\n",
       "    .dataframe thead th {\n",
       "        text-align: right;\n",
       "    }\n",
       "</style>\n",
       "<table border=\"1\" class=\"dataframe\">\n",
       "  <thead>\n",
       "    <tr style=\"text-align: right;\">\n",
       "      <th></th>\n",
       "      <th>SUBJECT_ID</th>\n",
       "      <th>NUM_ADM</th>\n",
       "    </tr>\n",
       "  </thead>\n",
       "  <tbody>\n",
       "    <tr>\n",
       "      <th>0</th>\n",
       "      <td>100</td>\n",
       "      <td>1</td>\n",
       "    </tr>\n",
       "    <tr>\n",
       "      <th>1</th>\n",
       "      <td>1000</td>\n",
       "      <td>1</td>\n",
       "    </tr>\n",
       "    <tr>\n",
       "      <th>2</th>\n",
       "      <td>10000</td>\n",
       "      <td>1</td>\n",
       "    </tr>\n",
       "    <tr>\n",
       "      <th>3</th>\n",
       "      <td>10003</td>\n",
       "      <td>1</td>\n",
       "    </tr>\n",
       "    <tr>\n",
       "      <th>4</th>\n",
       "      <td>10004</td>\n",
       "      <td>2</td>\n",
       "    </tr>\n",
       "    <tr>\n",
       "      <th>...</th>\n",
       "      <td>...</td>\n",
       "      <td>...</td>\n",
       "    </tr>\n",
       "    <tr>\n",
       "      <th>38543</th>\n",
       "      <td>9999</td>\n",
       "      <td>1</td>\n",
       "    </tr>\n",
       "    <tr>\n",
       "      <th>38544</th>\n",
       "      <td>99991</td>\n",
       "      <td>1</td>\n",
       "    </tr>\n",
       "    <tr>\n",
       "      <th>38545</th>\n",
       "      <td>99992</td>\n",
       "      <td>1</td>\n",
       "    </tr>\n",
       "    <tr>\n",
       "      <th>38546</th>\n",
       "      <td>99995</td>\n",
       "      <td>1</td>\n",
       "    </tr>\n",
       "    <tr>\n",
       "      <th>38547</th>\n",
       "      <td>99999</td>\n",
       "      <td>1</td>\n",
       "    </tr>\n",
       "  </tbody>\n",
       "</table>\n",
       "<p>38548 rows × 2 columns</p>\n",
       "</div>"
      ],
      "text/plain": [
       "      SUBJECT_ID  NUM_ADM\n",
       "0            100        1\n",
       "1           1000        1\n",
       "2          10000        1\n",
       "3          10003        1\n",
       "4          10004        2\n",
       "...          ...      ...\n",
       "38543       9999        1\n",
       "38544      99991        1\n",
       "38545      99992        1\n",
       "38546      99995        1\n",
       "38547      99999        1\n",
       "\n",
       "[38548 rows x 2 columns]"
      ]
     },
     "execution_count": 7,
     "metadata": {},
     "output_type": "execute_result"
    }
   ],
   "source": [
    "num_admissions = data.groupby('SUBJECT_ID').HADM_ID.nunique().reset_index()\n",
    "num_admissions = num_admissions.rename(columns={\"HADM_ID\": \"NUM_ADM\"})\n",
    "num_admissions"
   ]
  },
  {
   "cell_type": "code",
   "execution_count": 8,
   "metadata": {
    "ExecuteTime": {
     "end_time": "2022-01-24T05:53:39.132812Z",
     "start_time": "2022-01-24T05:53:38.822684Z"
    },
    "pycharm": {
     "name": "#%%\n"
    }
   },
   "outputs": [
    {
     "data": {
      "text/plain": [
       "<Axes: xlabel='NUM_ADM'>"
      ]
     },
     "execution_count": 8,
     "metadata": {},
     "output_type": "execute_result"
    },
    {
     "data": {
      "image/png": "[encoded data removed]",
      "text/plain": [
       "<Figure size 640x480 with 1 Axes>"
      ]
     },
     "metadata": {},
     "output_type": "display_data"
    }
   ],
   "source": [
    "num_admissions.NUM_ADM.value_counts().plot.bar()"
   ]
  },
  {
   "cell_type": "code",
   "execution_count": 9,
   "metadata": {
    "ExecuteTime": {
     "end_time": "2022-01-24T05:53:39.146611Z",
     "start_time": "2022-01-24T05:53:39.137523Z"
    },
    "pycharm": {
     "name": "#%%\n"
    }
   },
   "outputs": [
    {
     "data": {
      "text/plain": [
       "31281"
      ]
     },
     "execution_count": 9,
     "metadata": {},
     "output_type": "execute_result"
    }
   ],
   "source": [
    "subj_ids_1adm = list(num_admissions[num_admissions.NUM_ADM == 1].SUBJECT_ID.unique())\n",
    "len(subj_ids_1adm)"
   ]
  },
  {
   "cell_type": "code",
   "execution_count": 10,
   "metadata": {
    "ExecuteTime": {
     "end_time": "2022-01-24T05:53:39.194230Z",
     "start_time": "2022-01-24T05:53:39.148400Z"
    },
    "pycharm": {
     "name": "#%%\n"
    }
   },
   "outputs": [
    {
     "data": {
      "text/plain": [
       "(31281, 17)"
      ]
     },
     "execution_count": 10,
     "metadata": {},
     "output_type": "execute_result"
    }
   ],
   "source": [
    "data_1adm = data[data.SUBJECT_ID.isin(subj_ids_1adm)].reset_index(drop=True)\n",
    "data_1adm.shape"
   ]
  },
  {
   "cell_type": "code",
   "execution_count": 11,
   "metadata": {
    "ExecuteTime": {
     "end_time": "2022-01-24T05:53:39.203143Z",
     "start_time": "2022-01-24T05:53:39.196038Z"
    },
    "pycharm": {
     "name": "#%%\n"
    }
   },
   "outputs": [
    {
     "data": {
      "text/plain": [
       "7267"
      ]
     },
     "execution_count": 11,
     "metadata": {},
     "output_type": "execute_result"
    }
   ],
   "source": [
    "subj_ids_madm = list(num_admissions[num_admissions.NUM_ADM >= 2].SUBJECT_ID.unique())\n",
    "len(subj_ids_madm)"
   ]
  },
  {
   "cell_type": "code",
   "execution_count": 12,
   "metadata": {
    "ExecuteTime": {
     "end_time": "2022-01-24T05:53:39.223468Z",
     "start_time": "2022-01-24T05:53:39.204875Z"
    },
    "pycharm": {
     "name": "#%%\n"
    }
   },
   "outputs": [
    {
     "data": {
      "text/plain": [
       "(19438, 17)"
      ]
     },
     "execution_count": 12,
     "metadata": {},
     "output_type": "execute_result"
    }
   ],
   "source": [
    "data_madm = data[data.SUBJECT_ID.isin(subj_ids_madm)].reset_index(drop=True)\n",
    "data_madm.shape"
   ]
  },
  {
   "cell_type": "markdown",
   "metadata": {
    "pycharm": {
     "name": "#%% md\n"
    }
   },
   "source": [
    "## tvt split"
   ]
  },
  {
   "cell_type": "code",
   "execution_count": 13,
   "metadata": {
    "ExecuteTime": {
     "end_time": "2022-01-24T05:53:39.236490Z",
     "start_time": "2022-01-24T05:53:39.225100Z"
    },
    "pycharm": {
     "name": "#%%\n"
    }
   },
   "outputs": [],
   "source": [
    "tvt_split = [0.7, 0.1, 0.2]\n",
    "all_patients = list(data_madm.SUBJECT_ID.unique().tolist())\n",
    "random.shuffle(all_patients)\n",
    "s1 = tvt_split[0]\n",
    "s2 = tvt_split[0] + tvt_split[1]\n",
    "train_pids = all_patients[:int(len(all_patients) * s1)]\n",
    "val_pids = all_patients[int(len(all_patients) * s1): int(len(all_patients) * s2)]\n",
    "test_pids = all_patients[int(len(all_patients) * s2):]"
   ]
  },
  {
   "cell_type": "code",
   "execution_count": 14,
   "metadata": {
    "ExecuteTime": {
     "end_time": "2022-01-24T05:53:39.241867Z",
     "start_time": "2022-01-24T05:53:39.237905Z"
    },
    "pycharm": {
     "name": "#%%\n"
    }
   },
   "outputs": [
    {
     "name": "stdout",
     "output_type": "stream",
     "text": [
      "# of train: 5086\n",
      "# of val: 727\n",
      "# of test: 1454\n"
     ]
    }
   ],
   "source": [
    "print(\"# of train:\", len(train_pids))\n",
    "print(\"# of val:\", len(val_pids))\n",
    "print(\"# of test:\", len(test_pids))"
   ]
  },
  {
   "cell_type": "markdown",
   "metadata": {
    "pycharm": {
     "name": "#%% md\n"
    }
   },
   "source": [
    "## pretrain"
   ]
  },
  {
   "cell_type": "code",
   "execution_count": 15,
   "metadata": {
    "ExecuteTime": {
     "end_time": "2022-01-24T05:53:39.254594Z",
     "start_time": "2022-01-24T05:53:39.243686Z"
    },
    "pycharm": {
     "name": "#%%\n"
    }
   },
   "outputs": [
    {
     "data": {
      "text/plain": [
       "(13704, 17)"
      ]
     },
     "execution_count": 15,
     "metadata": {},
     "output_type": "execute_result"
    }
   ],
   "source": [
    "data_madm_train = data_madm[data_madm.SUBJECT_ID.isin(train_pids)]\n",
    "data_madm_train.shape"
   ]
  },
  {
   "cell_type": "code",
   "execution_count": 16,
   "metadata": {
    "ExecuteTime": {
     "end_time": "2022-01-24T05:53:39.267703Z",
     "start_time": "2022-01-24T05:53:39.256153Z"
    },
    "pycharm": {
     "name": "#%%\n"
    }
   },
   "outputs": [
    {
     "data": {
      "text/plain": [
       "(44985, 17)"
      ]
     },
     "execution_count": 16,
     "metadata": {},
     "output_type": "execute_result"
    }
   ],
   "source": [
    "data_pretrain = pd.concat([data_1adm, data_madm_train])\n",
    "data_pretrain.shape"
   ]
  },
  {
   "cell_type": "markdown",
   "metadata": {
    "ExecuteTime": {
     "end_time": "2022-01-24T04:34:19.124793Z",
     "start_time": "2022-01-24T04:34:19.106863Z"
    },
    "pycharm": {
     "name": "#%% md\n"
    }
   },
   "source": [
    "## convert to retrieval task data format"
   ]
  },
  {
   "cell_type": "markdown",
   "metadata": {
    "pycharm": {
     "name": "#%% md\n"
    }
   },
   "source": [
    "qrels"
   ]
  },
  {
   "cell_type": "code",
   "execution_count": 17,
   "metadata": {
    "ExecuteTime": {
     "end_time": "2022-01-24T05:53:39.326501Z",
     "start_time": "2022-01-24T05:53:39.269984Z"
    },
    "pycharm": {
     "name": "#%%\n"
    }
   },
   "outputs": [
    {
     "data": {
      "text/plain": [
       "SUBJECT_ID\n",
       "10004                    [164713, 161106]\n",
       "1004                     [127794, 177186]\n",
       "10059                    [142582, 122098]\n",
       "1006     [147743, 189081, 199286, 108462]\n",
       "10071                    [150259, 114392]\n",
       "                       ...               \n",
       "9984                     [194393, 127830]\n",
       "99883                    [150755, 198523]\n",
       "99897                    [162913, 181057]\n",
       "99923                    [164914, 192053]\n",
       "99982            [151454, 112748, 183791]\n",
       "Name: HADM_ID, Length: 7267, dtype: object"
      ]
     },
     "execution_count": 17,
     "metadata": {},
     "output_type": "execute_result"
    }
   ],
   "source": [
    "pid_to_vids = data_madm.groupby('SUBJECT_ID').HADM_ID.agg(list)\n",
    "pid_to_vids"
   ]
  },
  {
   "cell_type": "code",
   "execution_count": 18,
   "metadata": {
    "ExecuteTime": {
     "end_time": "2022-01-24T05:53:39.332194Z",
     "start_time": "2022-01-24T05:53:39.328071Z"
    },
    "pycharm": {
     "name": "#%%\n"
    }
   },
   "outputs": [
    {
     "data": {
      "text/plain": [
       "{'3': {'2': 1}}"
      ]
     },
     "execution_count": 18,
     "metadata": {},
     "output_type": "execute_result"
    }
   ],
   "source": [
    "# in: ['1', '2', '3']\n",
    "# out: {'3': {'2': 1}}\n",
    "def generate_qrel(lst):\n",
    "    q = lst[-1]\n",
    "    rel = lst[-2]\n",
    "    qrel = {q: {rel: 1}}\n",
    "    return qrel\n",
    "\n",
    "\n",
    "generate_qrel(['1', '2', '3'])"
   ]
  },
  {
   "cell_type": "code",
   "execution_count": 19,
   "metadata": {
    "ExecuteTime": {
     "end_time": "2022-01-24T05:53:39.337876Z",
     "start_time": "2022-01-24T05:53:39.333589Z"
    },
    "pycharm": {
     "name": "#%%\n"
    }
   },
   "outputs": [
    {
     "data": {
      "text/plain": [
       "{'3': {'2': 1}, '6': {'5': 1}}"
      ]
     },
     "execution_count": 19,
     "metadata": {},
     "output_type": "execute_result"
    }
   ],
   "source": [
    "# in: [{'3': {'2': 1}}, {'6': {'5': 1}}]\n",
    "# out: {'3': {2': 1}, '6': {'5': 1}}\n",
    "def merge_dict(lst):\n",
    "    ret = {}\n",
    "    for dct in lst:\n",
    "        for k, v in dct.items():\n",
    "            ret[k] = v\n",
    "    return ret\n",
    "\n",
    "\n",
    "merge_dict([{'3': {'2': 1}}, {'6': {'5': 1}}])"
   ]
  },
  {
   "cell_type": "code",
   "execution_count": 20,
   "metadata": {
    "ExecuteTime": {
     "end_time": "2022-01-24T05:53:39.374122Z",
     "start_time": "2022-01-24T05:53:39.339298Z"
    },
    "pycharm": {
     "name": "#%%\n"
    }
   },
   "outputs": [],
   "source": [
    "train_qrels = merge_dict([generate_qrel(pid_to_vids[pid]) for pid in train_pids])\n",
    "val_qrels = merge_dict([generate_qrel(pid_to_vids[pid]) for pid in val_pids])\n",
    "test_qrels = merge_dict([generate_qrel(pid_to_vids[pid]) for pid in test_pids])"
   ]
  },
  {
   "cell_type": "code",
   "execution_count": 21,
   "metadata": {
    "ExecuteTime": {
     "end_time": "2022-01-24T05:53:39.378792Z",
     "start_time": "2022-01-24T05:53:39.375725Z"
    },
    "pycharm": {
     "name": "#%%\n"
    }
   },
   "outputs": [
    {
     "name": "stdout",
     "output_type": "stream",
     "text": [
      "# of train: 5086\n",
      "# of val: 727\n",
      "# of test: 1454\n"
     ]
    }
   ],
   "source": [
    "print(\"# of train:\", len(train_qrels))\n",
    "print(\"# of val:\", len(val_qrels))\n",
    "print(\"# of test:\", len(test_qrels))"
   ]
  },
  {
   "cell_type": "markdown",
   "metadata": {
    "pycharm": {
     "name": "#%% md\n"
    }
   },
   "source": [
    "corpus & queries"
   ]
  },
  {
   "cell_type": "code",
   "execution_count": 22,
   "metadata": {
    "ExecuteTime": {
     "end_time": "2022-01-24T05:53:39.427573Z",
     "start_time": "2022-01-24T05:53:39.380361Z"
    },
    "pycharm": {
     "name": "#%%\n"
    }
   },
   "outputs": [],
   "source": [
    "vid_to_codes = data_madm[['HADM_ID', 'ICD9_FULL_CODE', 'ICD9_3DIGIT_CODE', 'CCS_CODE']].set_index('HADM_ID').to_dict()"
   ]
  },
  {
   "cell_type": "code",
   "execution_count": 23,
   "metadata": {
    "ExecuteTime": {
     "end_time": "2022-01-24T05:53:39.433804Z",
     "start_time": "2022-01-24T05:53:39.429285Z"
    },
    "pycharm": {
     "name": "#%%\n"
    }
   },
   "outputs": [],
   "source": [
    "def generate_corpus_and_queries(qrels, vid_to_codes):\n",
    "    queries = {'ICD9_FULL_CODE': {}, 'ICD9_3DIGIT_CODE': {}, 'CCS_CODE': {}}\n",
    "    corpus = {'ICD9_FULL_CODE': {}, 'ICD9_3DIGIT_CODE': {}, 'CCS_CODE': {}}\n",
    "    for q_vid, corpus_dict in qrels.items():\n",
    "        for k in queries:\n",
    "            queries[k][q_vid] = vid_to_codes[k][q_vid]\n",
    "        for c_vid in corpus_dict.keys():\n",
    "            for k in corpus:\n",
    "                corpus[k][c_vid] = vid_to_codes[k][c_vid]\n",
    "    return queries, corpus"
   ]
  },
  {
   "cell_type": "code",
   "execution_count": 24,
   "metadata": {
    "ExecuteTime": {
     "end_time": "2022-01-24T05:53:39.456841Z",
     "start_time": "2022-01-24T05:53:39.435635Z"
    },
    "pycharm": {
     "name": "#%%\n"
    }
   },
   "outputs": [],
   "source": [
    "train_queries, train_corpus = generate_corpus_and_queries(train_qrels, vid_to_codes)\n",
    "val_queries, val_corpus = generate_corpus_and_queries(val_qrels, vid_to_codes)\n",
    "test_queries, test_corpus = generate_corpus_and_queries(test_qrels, vid_to_codes)"
   ]
  },
  {
   "cell_type": "code",
   "execution_count": 25,
   "metadata": {
    "ExecuteTime": {
     "end_time": "2022-01-24T05:53:39.471721Z",
     "start_time": "2022-01-24T05:53:39.458614Z"
    },
    "pycharm": {
     "name": "#%%\n"
    }
   },
   "outputs": [],
   "source": [
    "queries = {'ICD9_FULL_CODE': {}, 'ICD9_3DIGIT_CODE': {}, 'CCS_CODE': {}}\n",
    "corpus = {'ICD9_FULL_CODE': {}, 'ICD9_3DIGIT_CODE': {}, 'CCS_CODE': {}}\n",
    "for code in ['ICD9_FULL_CODE', 'ICD9_3DIGIT_CODE', 'CCS_CODE']:\n",
    "    queries[code] = merge_dict([train_queries[code], val_queries[code], test_queries[code]])\n",
    "    corpus[code] = merge_dict([train_corpus[code], val_corpus[code], test_corpus[code]])"
   ]
  },
  {
   "cell_type": "markdown",
   "metadata": {
    "pycharm": {
     "name": "#%% md\n"
    }
   },
   "source": [
    "## save"
   ]
  },
  {
   "cell_type": "code",
   "execution_count": 26,
   "metadata": {
    "ExecuteTime": {
     "end_time": "2022-01-24T05:53:39.975390Z",
     "start_time": "2022-01-24T05:53:39.473998Z"
    },
    "pycharm": {
     "name": "#%%\n"
    }
   },
   "outputs": [],
   "source": [
    "data_pretrain.to_csv(os.path.join(data_path, 'mimic3/processed/data_pretrain.csv'), index=False)\n",
    "data_madm.to_csv(os.path.join(data_path, 'mimic3/processed/data_madm.csv'), index=False)"
   ]
  },
  {
   "cell_type": "code",
   "execution_count": 27,
   "metadata": {
    "ExecuteTime": {
     "end_time": "2022-01-24T05:53:39.983999Z",
     "start_time": "2022-01-24T05:53:39.980993Z"
    },
    "pycharm": {
     "name": "#%%\n"
    }
   },
   "outputs": [],
   "source": [
    "for code in ['ICD9_FULL_CODE', 'ICD9_3DIGIT_CODE', 'CCS_CODE']:\n",
    "    create_directory(os.path.join(data_path, f'mimic3/processed/mimic3_{code}'))"
   ]
  },
  {
   "cell_type": "markdown",
   "metadata": {
    "pycharm": {
     "name": "#%% md\n"
    }
   },
   "source": [
    "qrels"
   ]
  },
  {
   "cell_type": "code",
   "execution_count": 28,
   "metadata": {
    "ExecuteTime": {
     "end_time": "2022-01-24T05:53:39.989873Z",
     "start_time": "2022-01-24T05:53:39.985849Z"
    },
    "pycharm": {
     "name": "#%%\n"
    }
   },
   "outputs": [],
   "source": [
    "def save_qrels(qrels, split, path):\n",
    "    create_directory(os.path.join(path, 'qrels'))\n",
    "    with open(os.path.join(path, f'qrels/{split}.tsv'), 'wt') as out_file:\n",
    "        tsv_writer = csv.writer(out_file, delimiter='\\t')\n",
    "        tsv_writer.writerow(['query-id', 'corpus-id', 'score'])\n",
    "        qids = list(qrels.keys())\n",
    "        qids = sorted(qids)\n",
    "        for qid in qids:\n",
    "            for cid, score in qrels[qid].items():\n",
    "                tsv_writer.writerow([qid, cid, score])"
   ]
  },
  {
   "cell_type": "code",
   "execution_count": 29,
   "metadata": {
    "ExecuteTime": {
     "end_time": "2022-01-24T05:53:40.027440Z",
     "start_time": "2022-01-24T05:53:39.991629Z"
    },
    "pycharm": {
     "name": "#%%\n"
    }
   },
   "outputs": [],
   "source": [
    "for code in ['ICD9_FULL_CODE', 'ICD9_3DIGIT_CODE', 'CCS_CODE']:\n",
    "    save_qrels(train_qrels, 'train', os.path.join(data_path, f'mimic3/processed/mimic3_{code}'))\n",
    "    save_qrels(val_qrels, 'val', os.path.join(data_path, f'mimic3/processed/mimic3_{code}'))\n",
    "    save_qrels(test_qrels, 'test', os.path.join(data_path, f'mimic3/processed/mimic3_{code}'))"
   ]
  },
  {
   "cell_type": "markdown",
   "metadata": {
    "pycharm": {
     "name": "#%% md\n"
    }
   },
   "source": [
    "corpus and queries"
   ]
  },
  {
   "cell_type": "code",
   "execution_count": 30,
   "metadata": {
    "ExecuteTime": {
     "end_time": "2022-01-24T05:53:40.032384Z",
     "start_time": "2022-01-24T05:53:40.029226Z"
    },
    "pycharm": {
     "name": "#%%\n"
    }
   },
   "outputs": [],
   "source": [
    "def save_corpus(corpus, filename):\n",
    "    ids = corpus.keys()\n",
    "    ids = sorted(ids)\n",
    "    with open(filename, 'w') as outfile:\n",
    "        for _id in ids:\n",
    "            entry = {}\n",
    "            entry['_id'] = _id\n",
    "            entry['title'] = ''\n",
    "            entry['text'] = corpus[_id]\n",
    "            json.dump(entry, outfile)\n",
    "            outfile.write('\\n')"
   ]
  },
  {
   "cell_type": "code",
   "execution_count": 31,
   "metadata": {
    "ExecuteTime": {
     "end_time": "2022-01-24T05:53:40.037750Z",
     "start_time": "2022-01-24T05:53:40.033875Z"
    },
    "pycharm": {
     "name": "#%%\n"
    }
   },
   "outputs": [],
   "source": [
    "def save_queries(queries, filename):\n",
    "    ids = queries.keys()\n",
    "    ids = sorted(ids)\n",
    "    with open(filename, 'w') as outfile:\n",
    "        for _id in ids:\n",
    "            entry = {}\n",
    "            entry['_id'] = _id\n",
    "            entry['text'] = queries[_id]\n",
    "            json.dump(entry, outfile)\n",
    "            outfile.write('\\n')"
   ]
  },
  {
   "cell_type": "code",
   "execution_count": 32,
   "metadata": {
    "ExecuteTime": {
     "end_time": "2022-01-24T05:53:40.475291Z",
     "start_time": "2022-01-24T05:53:40.039545Z"
    },
    "pycharm": {
     "name": "#%%\n"
    }
   },
   "outputs": [],
   "source": [
    "for code in ['ICD9_FULL_CODE', 'ICD9_3DIGIT_CODE', 'CCS_CODE']:\n",
    "    save_corpus(corpus[code], os.path.join(data_path, f'mimic3/processed/mimic3_{code}/corpus.jsonl'))\n",
    "    save_queries(queries[code], os.path.join(data_path, f'mimic3/processed/mimic3_{code}/queries.jsonl'))"
   ]
  },
  {
   "cell_type": "markdown",
   "metadata": {
    "pycharm": {
     "name": "#%% md\n"
    }
   },
   "source": [
    "pids"
   ]
  },
  {
   "cell_type": "code",
   "execution_count": 33,
   "metadata": {
    "ExecuteTime": {
     "end_time": "2022-01-24T05:53:40.479514Z",
     "start_time": "2022-01-24T05:53:40.476560Z"
    },
    "pycharm": {
     "name": "#%%\n"
    }
   },
   "outputs": [],
   "source": [
    "def to_txt(data, filename):\n",
    "    with open(filename, 'w') as f:\n",
    "        for item in data:\n",
    "            try:\n",
    "                f.write(\"%s\\n\" % item)\n",
    "            except TypeError:\n",
    "                f.write(\"%s\\n\" % ' '.join([str(i) for i in item]))"
   ]
  },
  {
   "cell_type": "code",
   "execution_count": 34,
   "metadata": {
    "ExecuteTime": {
     "end_time": "2022-01-24T05:53:40.486857Z",
     "start_time": "2022-01-24T05:53:40.480885Z"
    },
    "pycharm": {
     "name": "#%%\n"
    }
   },
   "outputs": [],
   "source": [
    "to_txt(train_pids, os.path.join(data_path, 'mimic3/processed/train_pids.txt'))\n",
    "to_txt(val_pids, os.path.join(data_path, 'mimic3/processed/val_pids.txt'))\n",
    "to_txt(test_pids, os.path.join(data_path, 'mimic3/processed/test_pids.txt'))"
   ]
  },
  {
   "cell_type": "code",
   "execution_count": null,
   "metadata": {},
   "outputs": [],
   "source": []
  }
 ],
 "metadata": {
  "kernelspec": {
   "display_name": "pytorch20",
   "language": "python",
   "name": "pytorch20"
  },
  "language_info": {
   "codemirror_mode": {
    "name": "ipython",
    "version": 3
   },
   "file_extension": ".py",
   "mimetype": "text/x-python",
   "name": "python",
   "nbconvert_exporter": "python",
   "pygments_lexer": "ipython3",
   "version": "3.8.18"
  },
  "toc": {
   "base_numbering": 1,
   "nav_menu": {},
   "number_sections": false,
   "sideBar": true,
   "skip_h1_title": true,
   "title_cell": "Table of Contents",
   "title_sidebar": "Contents",
   "toc_cell": false,
   "toc_position": {},
   "toc_section_display": true,
   "toc_window_display": true
  }
 },
 "nbformat": 4,
 "nbformat_minor": 4
}
