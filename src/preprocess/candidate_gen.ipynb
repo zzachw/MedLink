{
 "cells": [
  {
   "cell_type": "code",
   "execution_count": 1,
   "metadata": {
    "ExecuteTime": {
     "end_time": "2022-02-03T03:54:39.621496Z",
     "start_time": "2022-02-03T03:54:39.612267Z"
    },
    "pycharm": {
     "name": "#%%\n"
    }
   },
   "outputs": [
    {
     "name": "stdout",
     "output_type": "stream",
     "text": [
      "/home/zw12/MedLink/src\n"
     ]
    }
   ],
   "source": [
    "import os\n",
    "import sys\n",
    "\n",
    "src_path = os.path.abspath('..')\n",
    "print(src_path)\n",
    "sys.path.append(src_path)"
   ]
  },
  {
   "cell_type": "code",
   "execution_count": 2,
   "metadata": {
    "ExecuteTime": {
     "end_time": "2022-02-03T03:54:40.669367Z",
     "start_time": "2022-02-03T03:54:39.959424Z"
    },
    "pycharm": {
     "name": "#%%\n"
    }
   },
   "outputs": [],
   "source": [
    "from utils import data_path, set_seed, create_directory, write_json"
   ]
  },
  {
   "cell_type": "code",
   "execution_count": 3,
   "metadata": {
    "ExecuteTime": {
     "end_time": "2022-02-03T03:54:40.732841Z",
     "start_time": "2022-02-03T03:54:40.671435Z"
    },
    "pycharm": {
     "name": "#%%\n"
    }
   },
   "outputs": [],
   "source": [
    "import json\n",
    "import os\n",
    "from itertools import chain\n",
    "import tqdm\n",
    "import random\n",
    "import pickle\n",
    "import pandas as pd\n",
    "import numpy as np"
   ]
  },
  {
   "cell_type": "code",
   "execution_count": 4,
   "metadata": {
    "ExecuteTime": {
     "end_time": "2022-02-03T03:54:40.738063Z",
     "start_time": "2022-02-03T03:54:40.734236Z"
    },
    "pycharm": {
     "name": "#%%\n"
    }
   },
   "outputs": [],
   "source": [
    "set_seed(seed=42)"
   ]
  },
  {
   "cell_type": "code",
   "execution_count": 5,
   "metadata": {
    "ExecuteTime": {
     "end_time": "2022-02-03T03:54:40.971077Z",
     "start_time": "2022-02-03T03:54:40.829202Z"
    },
    "pycharm": {
     "name": "#%%\n"
    }
   },
   "outputs": [
    {
     "data": {
      "text/html": [
       "<div>\n",
       "<style scoped>\n",
       "    .dataframe tbody tr th:only-of-type {\n",
       "        vertical-align: middle;\n",
       "    }\n",
       "\n",
       "    .dataframe tbody tr th {\n",
       "        vertical-align: top;\n",
       "    }\n",
       "\n",
       "    .dataframe thead th {\n",
       "        text-align: right;\n",
       "    }\n",
       "</style>\n",
       "<table border=\"1\" class=\"dataframe\">\n",
       "  <thead>\n",
       "    <tr style=\"text-align: right;\">\n",
       "      <th></th>\n",
       "      <th>SUBJECT_ID</th>\n",
       "      <th>GENDER</th>\n",
       "      <th>HADM_ID</th>\n",
       "      <th>ADMITTIME</th>\n",
       "      <th>DISCHTIME</th>\n",
       "      <th>ADMISSION_TYPE</th>\n",
       "      <th>ADMISSION_LOCATION</th>\n",
       "      <th>DISCHARGE_LOCATION</th>\n",
       "      <th>INSURANCE</th>\n",
       "      <th>LANGUAGE</th>\n",
       "      <th>RELIGION</th>\n",
       "      <th>MARITAL_STATUS</th>\n",
       "      <th>ETHNICITY</th>\n",
       "      <th>ICD9_FULL_CODE</th>\n",
       "      <th>ICD9_3DIGIT_CODE</th>\n",
       "      <th>CCS_CODE</th>\n",
       "      <th>AGE</th>\n",
       "    </tr>\n",
       "  </thead>\n",
       "  <tbody>\n",
       "    <tr>\n",
       "      <th>0</th>\n",
       "      <td>10004</td>\n",
       "      <td>M</td>\n",
       "      <td>164713</td>\n",
       "      <td>2182-11-02</td>\n",
       "      <td>2182-11-19</td>\n",
       "      <td>EMERGENCY</td>\n",
       "      <td>EMERGENCY ROOM ADMIT</td>\n",
       "      <td>SNF</td>\n",
       "      <td>Medicare</td>\n",
       "      <td>ENGL</td>\n",
       "      <td>CATHOLIC</td>\n",
       "      <td>MARRIED</td>\n",
       "      <td>WHITE</td>\n",
       "      <td>E8889 78039 7837 51881 4619 5225 3484 2720 803...</td>\n",
       "      <td>272 780 518 522 348 599 461 401 783 803 507 25...</td>\n",
       "      <td>58 159 233 53 98 131 49 126 95 83 663 136 2603...</td>\n",
       "      <td>52.0</td>\n",
       "    </tr>\n",
       "    <tr>\n",
       "      <th>1</th>\n",
       "      <td>10004</td>\n",
       "      <td>M</td>\n",
       "      <td>161106</td>\n",
       "      <td>2183-05-04</td>\n",
       "      <td>2183-05-08</td>\n",
       "      <td>EMERGENCY</td>\n",
       "      <td>EMERGENCY ROOM ADMIT</td>\n",
       "      <td>SNF</td>\n",
       "      <td>Medicare</td>\n",
       "      <td>ENGL</td>\n",
       "      <td>CATHOLIC</td>\n",
       "      <td>MARRIED</td>\n",
       "      <td>WHITE</td>\n",
       "      <td>E8859 5180 85200 25000 41401 3453 80503 V453</td>\n",
       "      <td>518 852 345 414 E885 250 V45 805</td>\n",
       "      <td>233 49 83 130 2603 231 155 101</td>\n",
       "      <td>52.0</td>\n",
       "    </tr>\n",
       "    <tr>\n",
       "      <th>2</th>\n",
       "      <td>1004</td>\n",
       "      <td>F</td>\n",
       "      <td>127794</td>\n",
       "      <td>2108-05-10</td>\n",
       "      <td>2108-05-25</td>\n",
       "      <td>ELECTIVE</td>\n",
       "      <td>PHYS REFERRAL/NORMAL DELI</td>\n",
       "      <td>REHAB/DISTINCT PART HOSP</td>\n",
       "      <td>Private</td>\n",
       "      <td>NaN</td>\n",
       "      <td>UNOBTAINABLE</td>\n",
       "      <td>MARRIED</td>\n",
       "      <td>WHITE</td>\n",
       "      <td>99702 V5865 29680 44422 37851 4430 9972 5990 5...</td>\n",
       "      <td>296 753 443 997 998 518 588 599 437 E879 378 4...</td>\n",
       "      <td>159 111 131 161 238 99 2616 91 117 657 257 215...</td>\n",
       "      <td>55.0</td>\n",
       "    </tr>\n",
       "    <tr>\n",
       "      <th>3</th>\n",
       "      <td>1004</td>\n",
       "      <td>F</td>\n",
       "      <td>177186</td>\n",
       "      <td>2108-06-07</td>\n",
       "      <td>2108-06-09</td>\n",
       "      <td>EMERGENCY</td>\n",
       "      <td>EMERGENCY ROOM ADMIT</td>\n",
       "      <td>DEAD/EXPIRED</td>\n",
       "      <td>Private</td>\n",
       "      <td>NaN</td>\n",
       "      <td>UNOBTAINABLE</td>\n",
       "      <td>MARRIED</td>\n",
       "      <td>WHITE</td>\n",
       "      <td>44422 43491 99811 2760 452 2724 4019 2874 2967...</td>\n",
       "      <td>296 272 753 584 998 588 E934 287 452 573 434 4...</td>\n",
       "      <td>157 53 55 238 118 161 98 151 62 215 116 109 26...</td>\n",
       "      <td>56.0</td>\n",
       "    </tr>\n",
       "    <tr>\n",
       "      <th>4</th>\n",
       "      <td>10059</td>\n",
       "      <td>M</td>\n",
       "      <td>142582</td>\n",
       "      <td>2150-08-07</td>\n",
       "      <td>2150-08-13</td>\n",
       "      <td>EMERGENCY</td>\n",
       "      <td>TRANSFER FROM HOSP/EXTRAM</td>\n",
       "      <td>HOME</td>\n",
       "      <td>Medicare</td>\n",
       "      <td>NaN</td>\n",
       "      <td>CATHOLIC</td>\n",
       "      <td>MARRIED</td>\n",
       "      <td>WHITE</td>\n",
       "      <td>7895 5723 07070 45620 4019 2800 5715 5849 2875</td>\n",
       "      <td>456 280 571 584 287 401 789 572 070</td>\n",
       "      <td>157 6 98 153 151 62 59</td>\n",
       "      <td>69.0</td>\n",
       "    </tr>\n",
       "  </tbody>\n",
       "</table>\n",
       "</div>"
      ],
      "text/plain": [
       "   SUBJECT_ID GENDER  HADM_ID   ADMITTIME   DISCHTIME ADMISSION_TYPE  \\\n",
       "0       10004      M   164713  2182-11-02  2182-11-19      EMERGENCY   \n",
       "1       10004      M   161106  2183-05-04  2183-05-08      EMERGENCY   \n",
       "2        1004      F   127794  2108-05-10  2108-05-25       ELECTIVE   \n",
       "3        1004      F   177186  2108-06-07  2108-06-09      EMERGENCY   \n",
       "4       10059      M   142582  2150-08-07  2150-08-13      EMERGENCY   \n",
       "\n",
       "          ADMISSION_LOCATION        DISCHARGE_LOCATION INSURANCE LANGUAGE  \\\n",
       "0       EMERGENCY ROOM ADMIT                       SNF  Medicare     ENGL   \n",
       "1       EMERGENCY ROOM ADMIT                       SNF  Medicare     ENGL   \n",
       "2  PHYS REFERRAL/NORMAL DELI  REHAB/DISTINCT PART HOSP   Private      NaN   \n",
       "3       EMERGENCY ROOM ADMIT              DEAD/EXPIRED   Private      NaN   \n",
       "4  TRANSFER FROM HOSP/EXTRAM                      HOME  Medicare      NaN   \n",
       "\n",
       "       RELIGION MARITAL_STATUS ETHNICITY  \\\n",
       "0      CATHOLIC        MARRIED     WHITE   \n",
       "1      CATHOLIC        MARRIED     WHITE   \n",
       "2  UNOBTAINABLE        MARRIED     WHITE   \n",
       "3  UNOBTAINABLE        MARRIED     WHITE   \n",
       "4      CATHOLIC        MARRIED     WHITE   \n",
       "\n",
       "                                      ICD9_FULL_CODE  \\\n",
       "0  E8889 78039 7837 51881 4619 5225 3484 2720 803...   \n",
       "1       E8859 5180 85200 25000 41401 3453 80503 V453   \n",
       "2  99702 V5865 29680 44422 37851 4430 9972 5990 5...   \n",
       "3  44422 43491 99811 2760 452 2724 4019 2874 2967...   \n",
       "4     7895 5723 07070 45620 4019 2800 5715 5849 2875   \n",
       "\n",
       "                                    ICD9_3DIGIT_CODE  \\\n",
       "0  272 780 518 522 348 599 461 401 783 803 507 25...   \n",
       "1                   518 852 345 414 E885 250 V45 805   \n",
       "2  296 753 443 997 998 518 588 599 437 E879 378 4...   \n",
       "3  296 272 753 584 998 588 E934 287 452 573 434 4...   \n",
       "4                456 280 571 584 287 401 789 572 070   \n",
       "\n",
       "                                            CCS_CODE   AGE  \n",
       "0  58 159 233 53 98 131 49 126 95 83 663 136 2603...  52.0  \n",
       "1                     233 49 83 130 2603 231 155 101  52.0  \n",
       "2  159 111 131 161 238 99 2616 91 117 657 257 215...  55.0  \n",
       "3  157 53 55 238 118 161 98 151 62 215 116 109 26...  56.0  \n",
       "4                             157 6 98 153 151 62 59  69.0  "
      ]
     },
     "execution_count": 5,
     "metadata": {},
     "output_type": "execute_result"
    }
   ],
   "source": [
    "data_madm = pd.read_csv(os.path.join(data_path, 'mimic3/processed/data_madm.csv'))\n",
    "data_madm.head()"
   ]
  },
  {
   "cell_type": "code",
   "execution_count": 6,
   "metadata": {
    "ExecuteTime": {
     "end_time": "2022-02-03T03:54:47.333809Z",
     "start_time": "2022-02-03T03:54:47.316154Z"
    },
    "pycharm": {
     "name": "#%%\n"
    }
   },
   "outputs": [],
   "source": [
    "data_madm.SUBJECT_ID = data_madm.SUBJECT_ID.apply(lambda x: str(x))\n",
    "data_madm.HADM_ID = data_madm.HADM_ID.apply(lambda x: str(x))"
   ]
  },
  {
   "cell_type": "code",
   "execution_count": 7,
   "metadata": {
    "ExecuteTime": {
     "end_time": "2022-02-03T03:54:47.695668Z",
     "start_time": "2022-02-03T03:54:47.642715Z"
    },
    "pycharm": {
     "name": "#%%\n"
    }
   },
   "outputs": [
    {
     "name": "stdout",
     "output_type": "stream",
     "text": [
      "GENDER 1.0\n",
      "AGE 1.8026696023118205\n",
      "INSURANCE 1.1242603550295858\n",
      "LANGUAGE 0.7494151644419981\n",
      "RELIGION 1.0214669051878353\n",
      "MARITAL_STATUS 1.0220173386541902\n",
      "ETHNICITY 1.0399064263107196\n"
     ]
    }
   ],
   "source": [
    "print('GENDER', data_madm.groupby('SUBJECT_ID').GENDER.nunique().mean())\n",
    "print('AGE', data_madm.groupby('SUBJECT_ID').AGE.nunique().mean())\n",
    "print('INSURANCE', data_madm.groupby('SUBJECT_ID').INSURANCE.nunique().mean())\n",
    "print('LANGUAGE', data_madm.groupby('SUBJECT_ID').LANGUAGE.nunique().mean())\n",
    "print('RELIGION', data_madm.groupby('SUBJECT_ID').RELIGION.nunique().mean())\n",
    "print('MARITAL_STATUS', data_madm.groupby('SUBJECT_ID').MARITAL_STATUS.nunique().mean())\n",
    "print('ETHNICITY', data_madm.groupby('SUBJECT_ID').ETHNICITY.nunique().mean())"
   ]
  },
  {
   "cell_type": "code",
   "execution_count": 8,
   "metadata": {
    "ExecuteTime": {
     "end_time": "2022-02-03T04:00:17.052204Z",
     "start_time": "2022-02-03T04:00:16.966254Z"
    },
    "pycharm": {
     "name": "#%%\n"
    }
   },
   "outputs": [
    {
     "name": "stderr",
     "output_type": "stream",
     "text": [
      "/home/zw12/miniconda3/envs/pytorch20/lib/python3.8/site-packages/beir/datasets/data_loader.py:2: TqdmWarning: IProgress not found. Please update jupyter and ipywidgets. See https://ipywidgets.readthedocs.io/en/stable/user_install.html\n",
      "  from tqdm.autonotebook import tqdm\n",
      "100%|████████████████████████████████████████████████████████████████████████████████████████████████████████████████████████████████████████████| 7267/7267 [00:00<00:00, 437905.97it/s]\n",
      "100%|████████████████████████████████████████████████████████████████████████████████████████████████████████████████████████████████████████████| 7267/7267 [00:00<00:00, 447445.79it/s]\n"
     ]
    }
   ],
   "source": [
    "from beir.datasets.data_loader import GenericDataLoader\n",
    "\n",
    "\n",
    "code = 'CCS_CODE'  # code doesn't matter as we only need qurey hadm_id\n",
    "_data_path = os.path.join(data_path, f'mimic3/processed/mimic3_{code}')\n",
    "te_corpus, te_queries, te_qrels = GenericDataLoader(_data_path).load(split=\"test\")\n",
    "va_corpus, va_queries, va_qrels = GenericDataLoader(_data_path).load(split=\"val\")"
   ]
  },
  {
   "cell_type": "code",
   "execution_count": 9,
   "metadata": {
    "ExecuteTime": {
     "end_time": "2022-02-03T04:00:17.507003Z",
     "start_time": "2022-02-03T04:00:17.504178Z"
    },
    "pycharm": {
     "name": "#%%\n"
    }
   },
   "outputs": [
    {
     "name": "stdout",
     "output_type": "stream",
     "text": [
      "1454\n",
      "727\n"
     ]
    }
   ],
   "source": [
    "print(len(te_qrels))\n",
    "print(len(va_qrels))"
   ]
  },
  {
   "cell_type": "code",
   "execution_count": 10,
   "metadata": {
    "ExecuteTime": {
     "end_time": "2022-02-03T04:00:17.755940Z",
     "start_time": "2022-02-03T04:00:17.750947Z"
    },
    "pycharm": {
     "name": "#%%\n"
    }
   },
   "outputs": [
    {
     "data": {
      "text/plain": [
       "True"
      ]
     },
     "execution_count": 10,
     "metadata": {},
     "output_type": "execute_result"
    }
   ],
   "source": [
    "te_corpus == va_corpus"
   ]
  },
  {
   "cell_type": "code",
   "execution_count": 11,
   "metadata": {
    "ExecuteTime": {
     "end_time": "2022-02-03T04:00:18.047266Z",
     "start_time": "2022-02-03T04:00:18.043904Z"
    },
    "pycharm": {
     "name": "#%%\n"
    }
   },
   "outputs": [
    {
     "name": "stdout",
     "output_type": "stream",
     "text": [
      "2181\n"
     ]
    }
   ],
   "source": [
    "# merge te and va for downstream processing\n",
    "for k, v in va_qrels.items():\n",
    "    assert k not in te_qrels\n",
    "    te_qrels[k] = v\n",
    "print(len(te_qrels))"
   ]
  },
  {
   "cell_type": "code",
   "execution_count": 12,
   "metadata": {
    "ExecuteTime": {
     "end_time": "2022-02-03T04:00:31.729099Z",
     "start_time": "2022-02-03T04:00:31.725295Z"
    },
    "pycharm": {
     "name": "#%%\n"
    }
   },
   "outputs": [
    {
     "name": "stdout",
     "output_type": "stream",
     "text": [
      "2181\n"
     ]
    }
   ],
   "source": [
    "for k, v in va_queries.items():\n",
    "    assert k not in te_queries\n",
    "    te_queries[k] = v\n",
    "print(len(te_queries))"
   ]
  },
  {
   "cell_type": "code",
   "execution_count": 13,
   "metadata": {
    "ExecuteTime": {
     "end_time": "2022-02-03T04:00:33.269372Z",
     "start_time": "2022-02-03T04:00:33.265508Z"
    },
    "pycharm": {
     "name": "#%%\n"
    }
   },
   "outputs": [
    {
     "data": {
      "text/plain": [
       "2181"
      ]
     },
     "execution_count": 13,
     "metadata": {},
     "output_type": "execute_result"
    }
   ],
   "source": [
    "q_hadm_ids = list(te_queries.keys())\n",
    "len(q_hadm_ids)"
   ]
  },
  {
   "cell_type": "code",
   "execution_count": 14,
   "metadata": {
    "ExecuteTime": {
     "end_time": "2022-02-03T04:00:34.912879Z",
     "start_time": "2022-02-03T04:00:34.908554Z"
    },
    "pycharm": {
     "name": "#%%\n"
    }
   },
   "outputs": [
    {
     "data": {
      "text/plain": [
       "7267"
      ]
     },
     "execution_count": 14,
     "metadata": {},
     "output_type": "execute_result"
    }
   ],
   "source": [
    "c_hadm_ids = list(te_corpus.keys())\n",
    "len(c_hadm_ids)"
   ]
  },
  {
   "cell_type": "code",
   "execution_count": 15,
   "metadata": {
    "ExecuteTime": {
     "end_time": "2022-02-03T04:00:36.405605Z",
     "start_time": "2022-02-03T04:00:36.402990Z"
    },
    "pycharm": {
     "name": "#%%\n"
    }
   },
   "outputs": [],
   "source": [
    "matches = ['GENDER', 'INSURANCE', 'LANGUAGE', 'RELIGION', 'MARITAL_STATUS', 'ETHNICITY']"
   ]
  },
  {
   "cell_type": "code",
   "execution_count": 16,
   "metadata": {
    "ExecuteTime": {
     "end_time": "2022-02-03T04:00:57.841720Z",
     "start_time": "2022-02-03T04:00:36.786264Z"
    },
    "pycharm": {
     "name": "#%%\n"
    }
   },
   "outputs": [
    {
     "name": "stderr",
     "output_type": "stream",
     "text": [
      "100%|███████████████████████████████████████████████████████████████████████████████████████████████████████████████████████████████████████████████| 2181/2181 [00:16<00:00, 132.34it/s]\n"
     ]
    }
   ],
   "source": [
    "q_to_can = {}\n",
    "for q_hadm_id in tqdm.tqdm(q_hadm_ids):\n",
    "    row = data_madm[data_madm.HADM_ID == q_hadm_id]\n",
    "    matched_pd = pd.merge(data_madm, row, on=matches, how='inner')\n",
    "    matched_pd = matched_pd[matched_pd.AGE_x <= row.AGE.iloc[0]]\n",
    "    can_hadm_ids = list(set(matched_pd.HADM_ID_x.tolist()).intersection(set(c_hadm_ids)))\n",
    "    q_to_can[q_hadm_id] = can_hadm_ids"
   ]
  },
  {
   "cell_type": "code",
   "execution_count": 17,
   "metadata": {
    "ExecuteTime": {
     "end_time": "2022-02-03T04:01:00.592069Z",
     "start_time": "2022-02-03T04:01:00.588864Z"
    },
    "pycharm": {
     "name": "#%%\n"
    }
   },
   "outputs": [
    {
     "data": {
      "text/plain": [
       "2181"
      ]
     },
     "execution_count": 17,
     "metadata": {},
     "output_type": "execute_result"
    }
   ],
   "source": [
    "len(q_to_can)"
   ]
  },
  {
   "cell_type": "code",
   "execution_count": 18,
   "metadata": {
    "ExecuteTime": {
     "end_time": "2022-02-03T04:01:01.099825Z",
     "start_time": "2022-02-03T04:01:01.095212Z"
    },
    "pycharm": {
     "name": "#%%\n"
    }
   },
   "outputs": [
    {
     "name": "stdout",
     "output_type": "stream",
     "text": [
      "min 0\n",
      "max 267\n",
      "mean 32.54057771664374\n",
      "std 48.01771442033842\n"
     ]
    }
   ],
   "source": [
    "tmp = [len(v) for v in q_to_can.values()]\n",
    "print('min', min(tmp))\n",
    "print('max', max(tmp))\n",
    "print('mean', np.mean(tmp))\n",
    "print('std', np.std(tmp))"
   ]
  },
  {
   "cell_type": "markdown",
   "metadata": {
    "pycharm": {
     "name": "#%% md\n"
    }
   },
   "source": [
    "any non-match?"
   ]
  },
  {
   "cell_type": "code",
   "execution_count": 19,
   "metadata": {
    "ExecuteTime": {
     "end_time": "2022-02-03T04:01:02.959383Z",
     "start_time": "2022-02-03T04:01:02.952616Z"
    },
    "pycharm": {
     "name": "#%%\n"
    }
   },
   "outputs": [
    {
     "name": "stdout",
     "output_type": "stream",
     "text": [
      "102584\n",
      "103106\n",
      "104699\n",
      "109386\n",
      "109940\n",
      "110408\n",
      "111911\n",
      "115106\n",
      "115735\n",
      "115850\n",
      "117548\n",
      "119286\n",
      "119367\n",
      "120594\n",
      "122084\n",
      "123538\n",
      "124442\n",
      "125924\n",
      "129791\n",
      "131022\n",
      "132160\n",
      "135006\n",
      "137439\n",
      "140109\n",
      "148582\n",
      "149406\n",
      "149473\n",
      "154121\n",
      "154417\n",
      "157053\n",
      "158598\n",
      "160104\n",
      "161002\n",
      "161892\n",
      "162322\n",
      "163837\n",
      "164343\n",
      "166755\n",
      "167377\n",
      "168178\n",
      "168295\n",
      "168961\n",
      "170525\n",
      "171639\n",
      "176105\n",
      "178034\n",
      "180859\n",
      "181175\n",
      "181404\n",
      "181880\n",
      "185457\n",
      "185567\n",
      "187061\n",
      "191197\n",
      "197509\n",
      "199478\n",
      "100069\n",
      "101728\n",
      "103169\n",
      "107753\n",
      "111425\n",
      "115932\n",
      "118047\n",
      "126802\n",
      "127135\n",
      "131258\n",
      "135593\n",
      "139654\n",
      "145567\n",
      "146572\n",
      "147174\n",
      "148918\n",
      "156448\n",
      "156641\n",
      "159513\n",
      "163788\n",
      "167702\n",
      "168792\n",
      "170957\n",
      "171144\n",
      "174404\n",
      "183768\n",
      "187001\n",
      "188769\n",
      "195430\n",
      "196404\n",
      "198056\n",
      "198353\n",
      "199339\n"
     ]
    },
    {
     "data": {
      "text/plain": [
       "89"
      ]
     },
     "execution_count": 19,
     "metadata": {},
     "output_type": "execute_result"
    }
   ],
   "source": [
    "c = 0\n",
    "for k, v in q_to_can.items():\n",
    "    if len(v) == 0:\n",
    "        print(k)\n",
    "        c += 1\n",
    "c"
   ]
  },
  {
   "cell_type": "code",
   "execution_count": 20,
   "metadata": {
    "ExecuteTime": {
     "end_time": "2022-02-03T04:01:03.498615Z",
     "start_time": "2022-02-03T04:01:03.481684Z"
    },
    "pycharm": {
     "name": "#%%\n"
    }
   },
   "outputs": [
    {
     "data": {
      "text/html": [
       "<div>\n",
       "<style scoped>\n",
       "    .dataframe tbody tr th:only-of-type {\n",
       "        vertical-align: middle;\n",
       "    }\n",
       "\n",
       "    .dataframe tbody tr th {\n",
       "        vertical-align: top;\n",
       "    }\n",
       "\n",
       "    .dataframe thead th {\n",
       "        text-align: right;\n",
       "    }\n",
       "</style>\n",
       "<table border=\"1\" class=\"dataframe\">\n",
       "  <thead>\n",
       "    <tr style=\"text-align: right;\">\n",
       "      <th></th>\n",
       "      <th>SUBJECT_ID</th>\n",
       "      <th>GENDER</th>\n",
       "      <th>HADM_ID</th>\n",
       "      <th>ADMITTIME</th>\n",
       "      <th>DISCHTIME</th>\n",
       "      <th>ADMISSION_TYPE</th>\n",
       "      <th>ADMISSION_LOCATION</th>\n",
       "      <th>DISCHARGE_LOCATION</th>\n",
       "      <th>INSURANCE</th>\n",
       "      <th>LANGUAGE</th>\n",
       "      <th>RELIGION</th>\n",
       "      <th>MARITAL_STATUS</th>\n",
       "      <th>ETHNICITY</th>\n",
       "      <th>ICD9_FULL_CODE</th>\n",
       "      <th>ICD9_3DIGIT_CODE</th>\n",
       "      <th>CCS_CODE</th>\n",
       "      <th>AGE</th>\n",
       "    </tr>\n",
       "  </thead>\n",
       "  <tbody>\n",
       "    <tr>\n",
       "      <th>16453</th>\n",
       "      <td>79015</td>\n",
       "      <td>M</td>\n",
       "      <td>102584</td>\n",
       "      <td>2194-12-01</td>\n",
       "      <td>2194-12-05</td>\n",
       "      <td>EMERGENCY</td>\n",
       "      <td>CLINIC REFERRAL/PREMATURE</td>\n",
       "      <td>SHORT TERM HOSPITAL</td>\n",
       "      <td>Medicare</td>\n",
       "      <td>ENGL</td>\n",
       "      <td>EPISCOPALIAN</td>\n",
       "      <td>SINGLE</td>\n",
       "      <td>WHITE</td>\n",
       "      <td>59960 9693 5119 5989 5070 7587 9663 2720 2724 ...</td>\n",
       "      <td>305 599 E950 780 710 788 251 518 598 969 783 2...</td>\n",
       "      <td>259 58 662 163 53 55 242 241 131 660 217 162 1...</td>\n",
       "      <td>37.0</td>\n",
       "    </tr>\n",
       "  </tbody>\n",
       "</table>\n",
       "</div>"
      ],
      "text/plain": [
       "      SUBJECT_ID GENDER HADM_ID   ADMITTIME   DISCHTIME ADMISSION_TYPE  \\\n",
       "16453      79015      M  102584  2194-12-01  2194-12-05      EMERGENCY   \n",
       "\n",
       "              ADMISSION_LOCATION   DISCHARGE_LOCATION INSURANCE LANGUAGE  \\\n",
       "16453  CLINIC REFERRAL/PREMATURE  SHORT TERM HOSPITAL  Medicare     ENGL   \n",
       "\n",
       "           RELIGION MARITAL_STATUS ETHNICITY  \\\n",
       "16453  EPISCOPALIAN         SINGLE     WHITE   \n",
       "\n",
       "                                          ICD9_FULL_CODE  \\\n",
       "16453  59960 9693 5119 5989 5070 7587 9663 2720 2724 ...   \n",
       "\n",
       "                                        ICD9_3DIGIT_CODE  \\\n",
       "16453  305 599 E950 780 710 788 251 518 598 969 783 2...   \n",
       "\n",
       "                                                CCS_CODE   AGE  \n",
       "16453  259 58 662 163 53 55 242 241 131 660 217 162 1...  37.0  "
      ]
     },
     "execution_count": 20,
     "metadata": {},
     "output_type": "execute_result"
    }
   ],
   "source": [
    "data_madm[data_madm.HADM_ID == '102584']"
   ]
  },
  {
   "cell_type": "code",
   "execution_count": 21,
   "metadata": {
    "ExecuteTime": {
     "end_time": "2022-02-03T04:01:04.164661Z",
     "start_time": "2022-02-03T04:01:04.147076Z"
    },
    "pycharm": {
     "name": "#%%\n"
    }
   },
   "outputs": [
    {
     "data": {
      "text/html": [
       "<div>\n",
       "<style scoped>\n",
       "    .dataframe tbody tr th:only-of-type {\n",
       "        vertical-align: middle;\n",
       "    }\n",
       "\n",
       "    .dataframe tbody tr th {\n",
       "        vertical-align: top;\n",
       "    }\n",
       "\n",
       "    .dataframe thead th {\n",
       "        text-align: right;\n",
       "    }\n",
       "</style>\n",
       "<table border=\"1\" class=\"dataframe\">\n",
       "  <thead>\n",
       "    <tr style=\"text-align: right;\">\n",
       "      <th></th>\n",
       "      <th>SUBJECT_ID</th>\n",
       "      <th>GENDER</th>\n",
       "      <th>HADM_ID</th>\n",
       "      <th>ADMITTIME</th>\n",
       "      <th>DISCHTIME</th>\n",
       "      <th>ADMISSION_TYPE</th>\n",
       "      <th>ADMISSION_LOCATION</th>\n",
       "      <th>DISCHARGE_LOCATION</th>\n",
       "      <th>INSURANCE</th>\n",
       "      <th>LANGUAGE</th>\n",
       "      <th>RELIGION</th>\n",
       "      <th>MARITAL_STATUS</th>\n",
       "      <th>ETHNICITY</th>\n",
       "      <th>ICD9_FULL_CODE</th>\n",
       "      <th>ICD9_3DIGIT_CODE</th>\n",
       "      <th>CCS_CODE</th>\n",
       "      <th>AGE</th>\n",
       "    </tr>\n",
       "  </thead>\n",
       "  <tbody>\n",
       "    <tr>\n",
       "      <th>16452</th>\n",
       "      <td>79015</td>\n",
       "      <td>M</td>\n",
       "      <td>155865</td>\n",
       "      <td>2194-01-25</td>\n",
       "      <td>2194-02-19</td>\n",
       "      <td>EMERGENCY</td>\n",
       "      <td>EMERGENCY ROOM ADMIT</td>\n",
       "      <td>REHAB/DISTINCT PART HOSP</td>\n",
       "      <td>Private</td>\n",
       "      <td>ENGL</td>\n",
       "      <td>EPISCOPALIAN</td>\n",
       "      <td>SINGLE</td>\n",
       "      <td>WHITE</td>\n",
       "      <td>8074 80229 27800 4619 8600 99731 E8147 9348 85...</td>\n",
       "      <td>802 825 807 278 461 728 860 958 518 453 873 04...</td>\n",
       "      <td>58 233 2607 238 131 234 118 126 228 211 2 230 ...</td>\n",
       "      <td>36.0</td>\n",
       "    </tr>\n",
       "    <tr>\n",
       "      <th>16453</th>\n",
       "      <td>79015</td>\n",
       "      <td>M</td>\n",
       "      <td>102584</td>\n",
       "      <td>2194-12-01</td>\n",
       "      <td>2194-12-05</td>\n",
       "      <td>EMERGENCY</td>\n",
       "      <td>CLINIC REFERRAL/PREMATURE</td>\n",
       "      <td>SHORT TERM HOSPITAL</td>\n",
       "      <td>Medicare</td>\n",
       "      <td>ENGL</td>\n",
       "      <td>EPISCOPALIAN</td>\n",
       "      <td>SINGLE</td>\n",
       "      <td>WHITE</td>\n",
       "      <td>59960 9693 5119 5989 5070 7587 9663 2720 2724 ...</td>\n",
       "      <td>305 599 E950 780 710 788 251 518 598 969 783 2...</td>\n",
       "      <td>259 58 662 163 53 55 242 241 131 660 217 162 1...</td>\n",
       "      <td>37.0</td>\n",
       "    </tr>\n",
       "  </tbody>\n",
       "</table>\n",
       "</div>"
      ],
      "text/plain": [
       "      SUBJECT_ID GENDER HADM_ID   ADMITTIME   DISCHTIME ADMISSION_TYPE  \\\n",
       "16452      79015      M  155865  2194-01-25  2194-02-19      EMERGENCY   \n",
       "16453      79015      M  102584  2194-12-01  2194-12-05      EMERGENCY   \n",
       "\n",
       "              ADMISSION_LOCATION        DISCHARGE_LOCATION INSURANCE LANGUAGE  \\\n",
       "16452       EMERGENCY ROOM ADMIT  REHAB/DISTINCT PART HOSP   Private     ENGL   \n",
       "16453  CLINIC REFERRAL/PREMATURE       SHORT TERM HOSPITAL  Medicare     ENGL   \n",
       "\n",
       "           RELIGION MARITAL_STATUS ETHNICITY  \\\n",
       "16452  EPISCOPALIAN         SINGLE     WHITE   \n",
       "16453  EPISCOPALIAN         SINGLE     WHITE   \n",
       "\n",
       "                                          ICD9_FULL_CODE  \\\n",
       "16452  8074 80229 27800 4619 8600 99731 E8147 9348 85...   \n",
       "16453  59960 9693 5119 5989 5070 7587 9663 2720 2724 ...   \n",
       "\n",
       "                                        ICD9_3DIGIT_CODE  \\\n",
       "16452  802 825 807 278 461 728 860 958 518 453 873 04...   \n",
       "16453  305 599 E950 780 710 788 251 518 598 969 783 2...   \n",
       "\n",
       "                                                CCS_CODE   AGE  \n",
       "16452  58 233 2607 238 131 234 118 126 228 211 2 230 ...  36.0  \n",
       "16453  259 58 662 163 53 55 242 241 131 660 217 162 1...  37.0  "
      ]
     },
     "execution_count": 21,
     "metadata": {},
     "output_type": "execute_result"
    }
   ],
   "source": [
    "data_madm[data_madm.SUBJECT_ID == '79015']"
   ]
  },
  {
   "cell_type": "code",
   "execution_count": 22,
   "metadata": {
    "ExecuteTime": {
     "end_time": "2022-02-03T04:01:04.724138Z",
     "start_time": "2022-02-03T04:01:04.707669Z"
    },
    "pycharm": {
     "name": "#%%\n"
    }
   },
   "outputs": [
    {
     "data": {
      "text/html": [
       "<div>\n",
       "<style scoped>\n",
       "    .dataframe tbody tr th:only-of-type {\n",
       "        vertical-align: middle;\n",
       "    }\n",
       "\n",
       "    .dataframe tbody tr th {\n",
       "        vertical-align: top;\n",
       "    }\n",
       "\n",
       "    .dataframe thead th {\n",
       "        text-align: right;\n",
       "    }\n",
       "</style>\n",
       "<table border=\"1\" class=\"dataframe\">\n",
       "  <thead>\n",
       "    <tr style=\"text-align: right;\">\n",
       "      <th></th>\n",
       "      <th>SUBJECT_ID</th>\n",
       "      <th>GENDER</th>\n",
       "      <th>HADM_ID</th>\n",
       "      <th>ADMITTIME</th>\n",
       "      <th>DISCHTIME</th>\n",
       "      <th>ADMISSION_TYPE</th>\n",
       "      <th>ADMISSION_LOCATION</th>\n",
       "      <th>DISCHARGE_LOCATION</th>\n",
       "      <th>INSURANCE</th>\n",
       "      <th>LANGUAGE</th>\n",
       "      <th>RELIGION</th>\n",
       "      <th>MARITAL_STATUS</th>\n",
       "      <th>ETHNICITY</th>\n",
       "      <th>ICD9_FULL_CODE</th>\n",
       "      <th>ICD9_3DIGIT_CODE</th>\n",
       "      <th>CCS_CODE</th>\n",
       "      <th>AGE</th>\n",
       "    </tr>\n",
       "  </thead>\n",
       "  <tbody>\n",
       "    <tr>\n",
       "      <th>1200</th>\n",
       "      <td>12446</td>\n",
       "      <td>F</td>\n",
       "      <td>178034</td>\n",
       "      <td>2186-11-03</td>\n",
       "      <td>2186-11-14</td>\n",
       "      <td>EMERGENCY</td>\n",
       "      <td>CLINIC REFERRAL/PREMATURE</td>\n",
       "      <td>HOME HEALTH CARE</td>\n",
       "      <td>Medicare</td>\n",
       "      <td>NaN</td>\n",
       "      <td>CATHOLIC</td>\n",
       "      <td>SINGLE</td>\n",
       "      <td>UNKNOWN/NOT SPECIFIED</td>\n",
       "      <td>1985 V4282 2859 V103 5780 591 2875 E9331</td>\n",
       "      <td>V10 578 E933 285 287 198 V42 591</td>\n",
       "      <td>259 42 24 161 153 62 2617 59</td>\n",
       "      <td>55.0</td>\n",
       "    </tr>\n",
       "  </tbody>\n",
       "</table>\n",
       "</div>"
      ],
      "text/plain": [
       "     SUBJECT_ID GENDER HADM_ID   ADMITTIME   DISCHTIME ADMISSION_TYPE  \\\n",
       "1200      12446      F  178034  2186-11-03  2186-11-14      EMERGENCY   \n",
       "\n",
       "             ADMISSION_LOCATION DISCHARGE_LOCATION INSURANCE LANGUAGE  \\\n",
       "1200  CLINIC REFERRAL/PREMATURE   HOME HEALTH CARE  Medicare      NaN   \n",
       "\n",
       "      RELIGION MARITAL_STATUS              ETHNICITY  \\\n",
       "1200  CATHOLIC         SINGLE  UNKNOWN/NOT SPECIFIED   \n",
       "\n",
       "                                ICD9_FULL_CODE  \\\n",
       "1200  1985 V4282 2859 V103 5780 591 2875 E9331   \n",
       "\n",
       "                      ICD9_3DIGIT_CODE                      CCS_CODE   AGE  \n",
       "1200  V10 578 E933 285 287 198 V42 591  259 42 24 161 153 62 2617 59  55.0  "
      ]
     },
     "execution_count": 22,
     "metadata": {},
     "output_type": "execute_result"
    }
   ],
   "source": [
    "data_madm[data_madm.HADM_ID == '178034']"
   ]
  },
  {
   "cell_type": "code",
   "execution_count": 23,
   "metadata": {
    "ExecuteTime": {
     "end_time": "2022-02-03T04:01:05.152274Z",
     "start_time": "2022-02-03T04:01:05.135395Z"
    },
    "pycharm": {
     "name": "#%%\n"
    }
   },
   "outputs": [
    {
     "data": {
      "text/html": [
       "<div>\n",
       "<style scoped>\n",
       "    .dataframe tbody tr th:only-of-type {\n",
       "        vertical-align: middle;\n",
       "    }\n",
       "\n",
       "    .dataframe tbody tr th {\n",
       "        vertical-align: top;\n",
       "    }\n",
       "\n",
       "    .dataframe thead th {\n",
       "        text-align: right;\n",
       "    }\n",
       "</style>\n",
       "<table border=\"1\" class=\"dataframe\">\n",
       "  <thead>\n",
       "    <tr style=\"text-align: right;\">\n",
       "      <th></th>\n",
       "      <th>SUBJECT_ID</th>\n",
       "      <th>GENDER</th>\n",
       "      <th>HADM_ID</th>\n",
       "      <th>ADMITTIME</th>\n",
       "      <th>DISCHTIME</th>\n",
       "      <th>ADMISSION_TYPE</th>\n",
       "      <th>ADMISSION_LOCATION</th>\n",
       "      <th>DISCHARGE_LOCATION</th>\n",
       "      <th>INSURANCE</th>\n",
       "      <th>LANGUAGE</th>\n",
       "      <th>RELIGION</th>\n",
       "      <th>MARITAL_STATUS</th>\n",
       "      <th>ETHNICITY</th>\n",
       "      <th>ICD9_FULL_CODE</th>\n",
       "      <th>ICD9_3DIGIT_CODE</th>\n",
       "      <th>CCS_CODE</th>\n",
       "      <th>AGE</th>\n",
       "    </tr>\n",
       "  </thead>\n",
       "  <tbody>\n",
       "    <tr>\n",
       "      <th>1199</th>\n",
       "      <td>12446</td>\n",
       "      <td>F</td>\n",
       "      <td>150404</td>\n",
       "      <td>2185-07-12</td>\n",
       "      <td>2185-07-27</td>\n",
       "      <td>ELECTIVE</td>\n",
       "      <td>PHYS REFERRAL/NORMAL DELI</td>\n",
       "      <td>DISC-TRAN CANCER/CHLDRN H</td>\n",
       "      <td>Private</td>\n",
       "      <td>NaN</td>\n",
       "      <td>CATHOLIC</td>\n",
       "      <td>SINGLE</td>\n",
       "      <td>UNKNOWN/NOT SPECIFIED</td>\n",
       "      <td>1986 1985 19882 5934 99859 V103 5990 9975 591</td>\n",
       "      <td>V10 997 998 593 198 599 591</td>\n",
       "      <td>42 159 238 24 161</td>\n",
       "      <td>54.0</td>\n",
       "    </tr>\n",
       "    <tr>\n",
       "      <th>1200</th>\n",
       "      <td>12446</td>\n",
       "      <td>F</td>\n",
       "      <td>178034</td>\n",
       "      <td>2186-11-03</td>\n",
       "      <td>2186-11-14</td>\n",
       "      <td>EMERGENCY</td>\n",
       "      <td>CLINIC REFERRAL/PREMATURE</td>\n",
       "      <td>HOME HEALTH CARE</td>\n",
       "      <td>Medicare</td>\n",
       "      <td>NaN</td>\n",
       "      <td>CATHOLIC</td>\n",
       "      <td>SINGLE</td>\n",
       "      <td>UNKNOWN/NOT SPECIFIED</td>\n",
       "      <td>1985 V4282 2859 V103 5780 591 2875 E9331</td>\n",
       "      <td>V10 578 E933 285 287 198 V42 591</td>\n",
       "      <td>259 42 24 161 153 62 2617 59</td>\n",
       "      <td>55.0</td>\n",
       "    </tr>\n",
       "  </tbody>\n",
       "</table>\n",
       "</div>"
      ],
      "text/plain": [
       "     SUBJECT_ID GENDER HADM_ID   ADMITTIME   DISCHTIME ADMISSION_TYPE  \\\n",
       "1199      12446      F  150404  2185-07-12  2185-07-27       ELECTIVE   \n",
       "1200      12446      F  178034  2186-11-03  2186-11-14      EMERGENCY   \n",
       "\n",
       "             ADMISSION_LOCATION         DISCHARGE_LOCATION INSURANCE LANGUAGE  \\\n",
       "1199  PHYS REFERRAL/NORMAL DELI  DISC-TRAN CANCER/CHLDRN H   Private      NaN   \n",
       "1200  CLINIC REFERRAL/PREMATURE           HOME HEALTH CARE  Medicare      NaN   \n",
       "\n",
       "      RELIGION MARITAL_STATUS              ETHNICITY  \\\n",
       "1199  CATHOLIC         SINGLE  UNKNOWN/NOT SPECIFIED   \n",
       "1200  CATHOLIC         SINGLE  UNKNOWN/NOT SPECIFIED   \n",
       "\n",
       "                                     ICD9_FULL_CODE  \\\n",
       "1199  1986 1985 19882 5934 99859 V103 5990 9975 591   \n",
       "1200       1985 V4282 2859 V103 5780 591 2875 E9331   \n",
       "\n",
       "                      ICD9_3DIGIT_CODE                      CCS_CODE   AGE  \n",
       "1199       V10 997 998 593 198 599 591             42 159 238 24 161  54.0  \n",
       "1200  V10 578 E933 285 287 198 V42 591  259 42 24 161 153 62 2617 59  55.0  "
      ]
     },
     "execution_count": 23,
     "metadata": {},
     "output_type": "execute_result"
    }
   ],
   "source": [
    "data_madm[data_madm.SUBJECT_ID == '12446']"
   ]
  },
  {
   "cell_type": "markdown",
   "metadata": {
    "pycharm": {
     "name": "#%% md\n"
    }
   },
   "source": [
    "solve non-match"
   ]
  },
  {
   "cell_type": "code",
   "execution_count": 24,
   "metadata": {
    "ExecuteTime": {
     "end_time": "2022-02-03T04:01:06.300481Z",
     "start_time": "2022-02-03T04:01:06.295503Z"
    },
    "pycharm": {
     "name": "#%%\n"
    }
   },
   "outputs": [
    {
     "data": {
      "text/plain": [
       "32"
      ]
     },
     "execution_count": 24,
     "metadata": {},
     "output_type": "execute_result"
    }
   ],
   "source": [
    "tmp = [len(v) for v in q_to_can.values()]\n",
    "mean_sample_size = int(np.mean(tmp))\n",
    "mean_sample_size"
   ]
  },
  {
   "cell_type": "code",
   "execution_count": 25,
   "metadata": {
    "ExecuteTime": {
     "end_time": "2022-02-03T04:01:06.919080Z",
     "start_time": "2022-02-03T04:01:06.913658Z"
    },
    "pycharm": {
     "name": "#%%\n"
    }
   },
   "outputs": [],
   "source": [
    "for k, v in q_to_can.items():\n",
    "    if len(v) == 0:\n",
    "        q_to_can[k] = random.sample(c_hadm_ids, mean_sample_size)"
   ]
  },
  {
   "cell_type": "code",
   "execution_count": 26,
   "metadata": {
    "ExecuteTime": {
     "end_time": "2022-02-03T04:01:07.310069Z",
     "start_time": "2022-02-03T04:01:07.305384Z"
    },
    "pycharm": {
     "name": "#%%\n"
    }
   },
   "outputs": [
    {
     "data": {
      "text/plain": [
       "0"
      ]
     },
     "execution_count": 26,
     "metadata": {},
     "output_type": "execute_result"
    }
   ],
   "source": [
    "c = 0\n",
    "for k, v in q_to_can.items():\n",
    "    if len(v) == 0:\n",
    "        print(k)\n",
    "        c += 1\n",
    "c"
   ]
  },
  {
   "cell_type": "markdown",
   "metadata": {
    "pycharm": {
     "name": "#%% md\n"
    }
   },
   "source": [
    "are true value sampled?"
   ]
  },
  {
   "cell_type": "code",
   "execution_count": 27,
   "metadata": {
    "ExecuteTime": {
     "end_time": "2022-02-03T04:01:08.670770Z",
     "start_time": "2022-02-03T04:01:08.655650Z"
    },
    "pycharm": {
     "name": "#%%\n"
    }
   },
   "outputs": [
    {
     "name": "stdout",
     "output_type": "stream",
     "text": [
      "100915\n",
      "101028\n",
      "101092\n",
      "101322\n",
      "101993\n",
      "102218\n",
      "102500\n",
      "102584\n",
      "102679\n",
      "102996\n",
      "103106\n",
      "104647\n",
      "104699\n",
      "105135\n",
      "105764\n",
      "106291\n",
      "106963\n",
      "107029\n",
      "107032\n",
      "109309\n",
      "109386\n",
      "109486\n",
      "109935\n",
      "109940\n",
      "109997\n",
      "110408\n",
      "110868\n",
      "111911\n",
      "111936\n",
      "112278\n",
      "112623\n",
      "113156\n",
      "115106\n",
      "115185\n",
      "115735\n",
      "115845\n",
      "115850\n",
      "116163\n",
      "117548\n",
      "118208\n",
      "118250\n",
      "119185\n",
      "119286\n",
      "119367\n",
      "120594\n",
      "121100\n",
      "121729\n",
      "121979\n",
      "122084\n",
      "122970\n",
      "123322\n",
      "123538\n",
      "124006\n",
      "124124\n",
      "124134\n",
      "124212\n",
      "124442\n",
      "124735\n",
      "125924\n",
      "126811\n",
      "127484\n",
      "127903\n",
      "129236\n",
      "129668\n",
      "129791\n",
      "130619\n",
      "131022\n",
      "131449\n",
      "131592\n",
      "131981\n",
      "132967\n",
      "133125\n",
      "133142\n",
      "133304\n",
      "134510\n",
      "134638\n",
      "134918\n",
      "135006\n",
      "136614\n",
      "137241\n",
      "137321\n",
      "137439\n",
      "137889\n",
      "138497\n",
      "138983\n",
      "139397\n",
      "139476\n",
      "139914\n",
      "140032\n",
      "140109\n",
      "140246\n",
      "140890\n",
      "141081\n",
      "142471\n",
      "142696\n",
      "142728\n",
      "143237\n",
      "145555\n",
      "145683\n",
      "146178\n",
      "147841\n",
      "148278\n",
      "148582\n",
      "148606\n",
      "149243\n",
      "149406\n",
      "149473\n",
      "149781\n",
      "149970\n",
      "150155\n",
      "150367\n",
      "151009\n",
      "151102\n",
      "152321\n",
      "152516\n",
      "153101\n",
      "154010\n",
      "154086\n",
      "154121\n",
      "154417\n",
      "155256\n",
      "155277\n",
      "155442\n",
      "156938\n",
      "157053\n",
      "158067\n",
      "158513\n",
      "158598\n",
      "160104\n",
      "160904\n",
      "160946\n",
      "160971\n",
      "161002\n",
      "161091\n",
      "161892\n",
      "162322\n",
      "162937\n",
      "163733\n",
      "163837\n",
      "164119\n",
      "164343\n",
      "164706\n",
      "164967\n",
      "165586\n",
      "166579\n",
      "166733\n",
      "166739\n",
      "166755\n",
      "167004\n",
      "167377\n",
      "168178\n",
      "168270\n",
      "168295\n",
      "168453\n",
      "168554\n",
      "168862\n",
      "168961\n",
      "168972\n",
      "169387\n",
      "169499\n",
      "169730\n",
      "170047\n",
      "170525\n",
      "170806\n",
      "171141\n",
      "171639\n",
      "172131\n",
      "172820\n",
      "172852\n",
      "172905\n",
      "172935\n",
      "173693\n",
      "173894\n",
      "174130\n",
      "174377\n",
      "175171\n",
      "175344\n",
      "175528\n",
      "176105\n",
      "176278\n",
      "176336\n",
      "178034\n",
      "178679\n",
      "180109\n",
      "180185\n",
      "180858\n",
      "180859\n",
      "180955\n",
      "181175\n",
      "181404\n",
      "181651\n",
      "181880\n",
      "182837\n",
      "183146\n",
      "183203\n",
      "183398\n",
      "183434\n",
      "185457\n",
      "185567\n",
      "186333\n",
      "186752\n",
      "187061\n",
      "187436\n",
      "188129\n",
      "188592\n",
      "190225\n",
      "190329\n",
      "190574\n",
      "191197\n",
      "191202\n",
      "192269\n",
      "192446\n",
      "192969\n",
      "193483\n",
      "193847\n",
      "194301\n",
      "194638\n",
      "195962\n",
      "195987\n",
      "196045\n",
      "196243\n",
      "196271\n",
      "196780\n",
      "197101\n",
      "197509\n",
      "198110\n",
      "198358\n",
      "198365\n",
      "199085\n",
      "199478\n",
      "199871\n",
      "100069\n",
      "100202\n",
      "101679\n",
      "101728\n",
      "103169\n",
      "105246\n",
      "105397\n",
      "105566\n",
      "107417\n",
      "107531\n",
      "107753\n",
      "108052\n",
      "109445\n",
      "111041\n",
      "111425\n",
      "114843\n",
      "115372\n",
      "115932\n",
      "118047\n",
      "119311\n",
      "126802\n",
      "127135\n",
      "127560\n",
      "128218\n",
      "128490\n",
      "130772\n",
      "130986\n",
      "131258\n",
      "131721\n",
      "133974\n",
      "135086\n",
      "135593\n",
      "136735\n",
      "137033\n",
      "137223\n",
      "139467\n",
      "139541\n",
      "139654\n",
      "140121\n",
      "140146\n",
      "141628\n",
      "142163\n",
      "144158\n",
      "144464\n",
      "145567\n",
      "146572\n",
      "147174\n",
      "147462\n",
      "147771\n",
      "147952\n",
      "148918\n",
      "149054\n",
      "149258\n",
      "149302\n",
      "150693\n",
      "150905\n",
      "151370\n",
      "153205\n",
      "153917\n",
      "156448\n",
      "156523\n",
      "156641\n",
      "157205\n",
      "157368\n",
      "158591\n",
      "159513\n",
      "162098\n",
      "163487\n",
      "163788\n",
      "163848\n",
      "164281\n",
      "164867\n",
      "165112\n",
      "166020\n",
      "166297\n",
      "167702\n",
      "168792\n",
      "169807\n",
      "170942\n",
      "170957\n",
      "171106\n",
      "171144\n",
      "174268\n",
      "174404\n",
      "175051\n",
      "175274\n",
      "175726\n",
      "177192\n",
      "178086\n",
      "181113\n",
      "183768\n",
      "183858\n",
      "184242\n",
      "184345\n",
      "185024\n",
      "185195\n",
      "185350\n",
      "185708\n",
      "185774\n",
      "186881\n",
      "187001\n",
      "187239\n",
      "187582\n",
      "187660\n",
      "188769\n",
      "191807\n",
      "193063\n",
      "193803\n",
      "194552\n",
      "194616\n",
      "195430\n",
      "195625\n",
      "195815\n",
      "196404\n",
      "196999\n",
      "197237\n",
      "197536\n",
      "198056\n",
      "198353\n",
      "198428\n",
      "199339\n",
      "199609\n"
     ]
    },
    {
     "data": {
      "text/plain": [
       "353"
      ]
     },
     "execution_count": 27,
     "metadata": {},
     "output_type": "execute_result"
    }
   ],
   "source": [
    "c = 0\n",
    "for q_id, c_ids in te_qrels.items():\n",
    "    for c_id in c_ids.keys():\n",
    "        if c_id not in q_to_can[q_id]:\n",
    "            print(q_id)\n",
    "            c += 1\n",
    "c"
   ]
  },
  {
   "cell_type": "markdown",
   "metadata": {
    "pycharm": {
     "name": "#%% md\n"
    }
   },
   "source": [
    "remove true value"
   ]
  },
  {
   "cell_type": "code",
   "execution_count": 28,
   "metadata": {
    "ExecuteTime": {
     "end_time": "2022-02-03T04:01:22.423408Z",
     "start_time": "2022-02-03T04:01:22.416100Z"
    },
    "pycharm": {
     "name": "#%%\n"
    }
   },
   "outputs": [],
   "source": [
    "for k, v in q_to_can.items():\n",
    "    c_ids = te_qrels[k]\n",
    "    for c_id in c_ids.keys():\n",
    "        if c_id in v:\n",
    "            v.remove(c_id)\n",
    "    q_to_can[k] = v"
   ]
  },
  {
   "cell_type": "code",
   "execution_count": 29,
   "metadata": {
    "ExecuteTime": {
     "end_time": "2022-02-03T04:01:22.963297Z",
     "start_time": "2022-02-03T04:01:22.955190Z"
    },
    "pycharm": {
     "name": "#%%\n"
    }
   },
   "outputs": [
    {
     "data": {
      "text/plain": [
       "0"
      ]
     },
     "execution_count": 29,
     "metadata": {},
     "output_type": "execute_result"
    }
   ],
   "source": [
    "c = 0\n",
    "for q_id, c_ids in te_qrels.items():\n",
    "    for c_id in c_ids.keys():\n",
    "        if c_id in q_to_can[q_id]:\n",
    "            print(q_id)\n",
    "            c += 1\n",
    "c"
   ]
  },
  {
   "cell_type": "code",
   "execution_count": 30,
   "metadata": {
    "ExecuteTime": {
     "end_time": "2022-02-03T04:01:23.319057Z",
     "start_time": "2022-02-03T04:01:23.314175Z"
    },
    "pycharm": {
     "name": "#%%\n"
    }
   },
   "outputs": [
    {
     "name": "stdout",
     "output_type": "stream",
     "text": [
      "min 0\n",
      "max 266\n",
      "mean 33.00825309491059\n",
      "std 47.551491680570436\n"
     ]
    }
   ],
   "source": [
    "tmp = [len(v) for v in q_to_can.values()]\n",
    "print('min', min(tmp))\n",
    "print('max', max(tmp))\n",
    "print('mean', np.mean(tmp))\n",
    "print('std', np.std(tmp))"
   ]
  },
  {
   "cell_type": "code",
   "execution_count": 31,
   "metadata": {
    "ExecuteTime": {
     "end_time": "2022-02-03T04:01:24.714659Z",
     "start_time": "2022-02-03T04:01:24.675841Z"
    },
    "pycharm": {
     "name": "#%%\n"
    }
   },
   "outputs": [],
   "source": [
    "write_json(os.path.join(data_path, 'mimic3/processed/candidate.json'), q_to_can)"
   ]
  },
  {
   "cell_type": "code",
   "execution_count": null,
   "metadata": {
    "pycharm": {
     "name": "#%%\n"
    }
   },
   "outputs": [],
   "source": []
  }
 ],
 "metadata": {
  "kernelspec": {
   "display_name": "pytorch20",
   "language": "python",
   "name": "pytorch20"
  },
  "language_info": {
   "codemirror_mode": {
    "name": "ipython",
    "version": 3
   },
   "file_extension": ".py",
   "mimetype": "text/x-python",
   "name": "python",
   "nbconvert_exporter": "python",
   "pygments_lexer": "ipython3",
   "version": "3.8.18"
  },
  "toc": {
   "base_numbering": 1,
   "nav_menu": {},
   "number_sections": false,
   "sideBar": true,
   "skip_h1_title": true,
   "title_cell": "Table of Contents",
   "title_sidebar": "Contents",
   "toc_cell": false,
   "toc_position": {},
   "toc_section_display": true,
   "toc_window_display": false
  }
 },
 "nbformat": 4,
 "nbformat_minor": 4
}
