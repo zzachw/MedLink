{
 "cells": [
  {
   "cell_type": "code",
   "execution_count": 1,
   "metadata": {
    "ExecuteTime": {
     "end_time": "2022-02-10T03:06:07.806111Z",
     "start_time": "2022-02-10T03:06:07.802966Z"
    }
   },
   "outputs": [
    {
     "name": "stdout",
     "output_type": "stream",
     "text": [
      "/home/zw12/MedLink/src\n"
     ]
    }
   ],
   "source": [
    "import os\n",
    "import sys\n",
    "\n",
    "src_path = os.path.abspath('..')\n",
    "print(src_path)\n",
    "sys.path.append(src_path)"
   ]
  },
  {
   "cell_type": "code",
   "execution_count": 2,
   "metadata": {
    "ExecuteTime": {
     "end_time": "2022-02-10T03:06:08.018440Z",
     "start_time": "2022-02-10T03:06:08.015949Z"
    }
   },
   "outputs": [],
   "source": [
    "from utils import data_path, set_seed, create_directory"
   ]
  },
  {
   "cell_type": "code",
   "execution_count": 3,
   "metadata": {
    "ExecuteTime": {
     "end_time": "2022-02-10T03:06:08.914556Z",
     "start_time": "2022-02-10T03:06:08.218187Z"
    }
   },
   "outputs": [],
   "source": [
    "import csv\n",
    "import json\n",
    "from datetime import datetime\n",
    "from collections import Counter, OrderedDict\n",
    "import random\n",
    "import pandas as pd\n",
    "import numpy as np\n",
    "from itertools import chain"
   ]
  },
  {
   "cell_type": "code",
   "execution_count": 4,
   "metadata": {
    "ExecuteTime": {
     "end_time": "2022-02-10T03:06:08.921789Z",
     "start_time": "2022-02-10T03:06:08.916629Z"
    }
   },
   "outputs": [],
   "source": [
    "set_seed(seed=42)"
   ]
  },
  {
   "cell_type": "markdown",
   "metadata": {
    "ExecuteTime": {
     "end_time": "2022-01-26T00:01:37.218768Z",
     "start_time": "2022-01-26T00:01:37.216661Z"
    }
   },
   "source": [
    "## read data"
   ]
  },
  {
   "cell_type": "code",
   "execution_count": 5,
   "metadata": {
    "ExecuteTime": {
     "end_time": "2022-01-26T09:48:01.840883Z",
     "start_time": "2022-01-26T09:48:01.442588Z"
    }
   },
   "outputs": [
    {
     "data": {
      "text/html": [
       "<div>\n",
       "<style scoped>\n",
       "    .dataframe tbody tr th:only-of-type {\n",
       "        vertical-align: middle;\n",
       "    }\n",
       "\n",
       "    .dataframe tbody tr th {\n",
       "        vertical-align: top;\n",
       "    }\n",
       "\n",
       "    .dataframe thead th {\n",
       "        text-align: right;\n",
       "    }\n",
       "</style>\n",
       "<table border=\"1\" class=\"dataframe\">\n",
       "  <thead>\n",
       "    <tr style=\"text-align: right;\">\n",
       "      <th></th>\n",
       "      <th>SUBJECT_ID</th>\n",
       "      <th>GENDER</th>\n",
       "      <th>HADM_ID</th>\n",
       "      <th>ADMITTIME</th>\n",
       "      <th>DISCHTIME</th>\n",
       "      <th>ADMISSION_TYPE</th>\n",
       "      <th>ADMISSION_LOCATION</th>\n",
       "      <th>DISCHARGE_LOCATION</th>\n",
       "      <th>INSURANCE</th>\n",
       "      <th>LANGUAGE</th>\n",
       "      <th>RELIGION</th>\n",
       "      <th>MARITAL_STATUS</th>\n",
       "      <th>ETHNICITY</th>\n",
       "      <th>ICD9_FULL_CODE</th>\n",
       "      <th>ICD9_3DIGIT_CODE</th>\n",
       "      <th>CCS_CODE</th>\n",
       "      <th>AGE</th>\n",
       "    </tr>\n",
       "  </thead>\n",
       "  <tbody>\n",
       "    <tr>\n",
       "      <th>0</th>\n",
       "      <td>100</td>\n",
       "      <td>F</td>\n",
       "      <td>153952</td>\n",
       "      <td>2157-08-10</td>\n",
       "      <td>2157-08-18</td>\n",
       "      <td>ELECTIVE</td>\n",
       "      <td>PHYS REFERRAL/NORMAL DELI</td>\n",
       "      <td>HOME</td>\n",
       "      <td>Private</td>\n",
       "      <td>NaN</td>\n",
       "      <td>CATHOLIC</td>\n",
       "      <td>WIDOWED</td>\n",
       "      <td>UNKNOWN/NOT SPECIFIED</td>\n",
       "      <td>4260 4411 4241 42731 99602</td>\n",
       "      <td>427 426 424 996 441</td>\n",
       "      <td>106 96 237 115 105</td>\n",
       "      <td>71.0</td>\n",
       "    </tr>\n",
       "    <tr>\n",
       "      <th>1</th>\n",
       "      <td>1000</td>\n",
       "      <td>M</td>\n",
       "      <td>143040</td>\n",
       "      <td>2144-01-19</td>\n",
       "      <td>2144-02-25</td>\n",
       "      <td>URGENT</td>\n",
       "      <td>TRANSFER FROM HOSP/EXTRAM</td>\n",
       "      <td>DEAD/EXPIRED</td>\n",
       "      <td>Private</td>\n",
       "      <td>NaN</td>\n",
       "      <td>UNOBTAINABLE</td>\n",
       "      <td>MARRIED</td>\n",
       "      <td>UNKNOWN/NOT SPECIFIED</td>\n",
       "      <td>5789 2773 4280 2851 0380 40391 78559 20300 5185</td>\n",
       "      <td>203 785 277 578 038 518 285 428 403</td>\n",
       "      <td>58 60 131 99 108 153 2 40 249</td>\n",
       "      <td>69.0</td>\n",
       "    </tr>\n",
       "    <tr>\n",
       "      <th>2</th>\n",
       "      <td>10000</td>\n",
       "      <td>M</td>\n",
       "      <td>187813</td>\n",
       "      <td>2186-08-10</td>\n",
       "      <td>2186-08-31</td>\n",
       "      <td>EMERGENCY</td>\n",
       "      <td>TRANSFER FROM HOSP/EXTRAM</td>\n",
       "      <td>SHORT TERM HOSPITAL</td>\n",
       "      <td>Self Pay</td>\n",
       "      <td>SPAN</td>\n",
       "      <td>CATHOLIC</td>\n",
       "      <td>NaN</td>\n",
       "      <td>HISPANIC OR LATINO</td>\n",
       "      <td>5845 28521 2766 25000 5997 5723 5712 0414 5770...</td>\n",
       "      <td>456 577 285 289 286 599 250 403 571 303 584 99...</td>\n",
       "      <td>163 157 55 660 238 152 99 64 49 134 3 211 151 ...</td>\n",
       "      <td>49.0</td>\n",
       "    </tr>\n",
       "    <tr>\n",
       "      <th>3</th>\n",
       "      <td>10003</td>\n",
       "      <td>M</td>\n",
       "      <td>144039</td>\n",
       "      <td>2111-11-21</td>\n",
       "      <td>2111-12-02</td>\n",
       "      <td>EMERGENCY</td>\n",
       "      <td>EMERGENCY ROOM ADMIT</td>\n",
       "      <td>HOME</td>\n",
       "      <td>Private</td>\n",
       "      <td>NaN</td>\n",
       "      <td>OTHER</td>\n",
       "      <td>MARRIED</td>\n",
       "      <td>BLACK/AFRICAN AMERICAN</td>\n",
       "      <td>82525 4582 2899 99811 4019 82523 8602 E8798 80708</td>\n",
       "      <td>860 458 998 825 289 E879 401 807</td>\n",
       "      <td>238 234 98 64 2616 230 231</td>\n",
       "      <td>41.0</td>\n",
       "    </tr>\n",
       "    <tr>\n",
       "      <th>4</th>\n",
       "      <td>10006</td>\n",
       "      <td>F</td>\n",
       "      <td>142345</td>\n",
       "      <td>2164-10-23</td>\n",
       "      <td>2164-11-01</td>\n",
       "      <td>EMERGENCY</td>\n",
       "      <td>EMERGENCY ROOM ADMIT</td>\n",
       "      <td>HOME HEALTH CARE</td>\n",
       "      <td>Medicare</td>\n",
       "      <td>NaN</td>\n",
       "      <td>CATHOLIC</td>\n",
       "      <td>SEPARATED</td>\n",
       "      <td>BLACK/AFRICAN AMERICAN</td>\n",
       "      <td>3051 7850 4280 V090 25000 2874 2749 40391 5672...</td>\n",
       "      <td>305 562 285 428 996 250 403 427 E934 424 995 2...</td>\n",
       "      <td>106 99 96 108 49 2616 148 54 237 2 62 257 663 ...</td>\n",
       "      <td>70.0</td>\n",
       "    </tr>\n",
       "    <tr>\n",
       "      <th>...</th>\n",
       "      <td>...</td>\n",
       "      <td>...</td>\n",
       "      <td>...</td>\n",
       "      <td>...</td>\n",
       "      <td>...</td>\n",
       "      <td>...</td>\n",
       "      <td>...</td>\n",
       "      <td>...</td>\n",
       "      <td>...</td>\n",
       "      <td>...</td>\n",
       "      <td>...</td>\n",
       "      <td>...</td>\n",
       "      <td>...</td>\n",
       "      <td>...</td>\n",
       "      <td>...</td>\n",
       "      <td>...</td>\n",
       "      <td>...</td>\n",
       "    </tr>\n",
       "    <tr>\n",
       "      <th>44980</th>\n",
       "      <td>9984</td>\n",
       "      <td>F</td>\n",
       "      <td>127830</td>\n",
       "      <td>2136-11-24</td>\n",
       "      <td>2136-11-27</td>\n",
       "      <td>EMERGENCY</td>\n",
       "      <td>EMERGENCY ROOM ADMIT</td>\n",
       "      <td>DEAD/EXPIRED</td>\n",
       "      <td>Private</td>\n",
       "      <td>NaN</td>\n",
       "      <td>CATHOLIC</td>\n",
       "      <td>SINGLE</td>\n",
       "      <td>UNKNOWN/NOT SPECIFIED</td>\n",
       "      <td>7895 2720 4019 5070 00845 5849 2762 2765</td>\n",
       "      <td>272 008 584 401 789 276 507</td>\n",
       "      <td>157 53 55 98 151 129 135</td>\n",
       "      <td>80.0</td>\n",
       "    </tr>\n",
       "    <tr>\n",
       "      <th>44981</th>\n",
       "      <td>99897</td>\n",
       "      <td>M</td>\n",
       "      <td>162913</td>\n",
       "      <td>2181-08-06</td>\n",
       "      <td>2181-08-07</td>\n",
       "      <td>EMERGENCY</td>\n",
       "      <td>CLINIC REFERRAL/PREMATURE</td>\n",
       "      <td>HOME</td>\n",
       "      <td>Private</td>\n",
       "      <td>HAIT</td>\n",
       "      <td>7TH DAY ADVENTIST</td>\n",
       "      <td>MARRIED</td>\n",
       "      <td>BLACK/HAITIAN</td>\n",
       "      <td>28521 V1581 3572 4280 42832 25040 36201 3659 4...</td>\n",
       "      <td>780 584 V15 285 362 428 276 V58 357 365 250 40...</td>\n",
       "      <td>259 157 55 99 108 95 50 158 87 88 257 59</td>\n",
       "      <td>53.0</td>\n",
       "    </tr>\n",
       "    <tr>\n",
       "      <th>44982</th>\n",
       "      <td>99897</td>\n",
       "      <td>M</td>\n",
       "      <td>181057</td>\n",
       "      <td>2182-07-03</td>\n",
       "      <td>2182-07-08</td>\n",
       "      <td>EMERGENCY</td>\n",
       "      <td>CLINIC REFERRAL/PREMATURE</td>\n",
       "      <td>HOME</td>\n",
       "      <td>Private</td>\n",
       "      <td>HAIT</td>\n",
       "      <td>7TH DAY ADVENTIST</td>\n",
       "      <td>MARRIED</td>\n",
       "      <td>BLACK/HAITIAN</td>\n",
       "      <td>V5867 25052 25012 5855 3572 36201 2720 V1581 4...</td>\n",
       "      <td>272 584 V15 362 V12 795 428 V58 365 357 250 40...</td>\n",
       "      <td>259 157 53 99 108 95 50 158 87 117 10 88 257</td>\n",
       "      <td>54.0</td>\n",
       "    </tr>\n",
       "    <tr>\n",
       "      <th>44983</th>\n",
       "      <td>99923</td>\n",
       "      <td>M</td>\n",
       "      <td>164914</td>\n",
       "      <td>2201-02-23</td>\n",
       "      <td>2201-03-03</td>\n",
       "      <td>EMERGENCY</td>\n",
       "      <td>CLINIC REFERRAL/PREMATURE</td>\n",
       "      <td>HOME</td>\n",
       "      <td>Private</td>\n",
       "      <td>ENGL</td>\n",
       "      <td>CATHOLIC</td>\n",
       "      <td>MARRIED</td>\n",
       "      <td>WHITE</td>\n",
       "      <td>5723 5859 45621 45829 5712 7455 V1582 4561 E93...</td>\n",
       "      <td>456 571 458 584 E939 303 V15 745 453 572 276 585</td>\n",
       "      <td>157 213 55 238 118 660 158 151 138 663 2617</td>\n",
       "      <td>54.0</td>\n",
       "    </tr>\n",
       "    <tr>\n",
       "      <th>44984</th>\n",
       "      <td>99923</td>\n",
       "      <td>M</td>\n",
       "      <td>192053</td>\n",
       "      <td>2201-05-15</td>\n",
       "      <td>2201-05-25</td>\n",
       "      <td>EMERGENCY</td>\n",
       "      <td>CLINIC REFERRAL/PREMATURE</td>\n",
       "      <td>HOME HEALTH CARE</td>\n",
       "      <td>Private</td>\n",
       "      <td>ENGL</td>\n",
       "      <td>CATHOLIC</td>\n",
       "      <td>MARRIED</td>\n",
       "      <td>WHITE</td>\n",
       "      <td>79902 5856 5724 5601 5712 V5861 27669 V1582 E8...</td>\n",
       "      <td>799 571 303 458 997 V15 285 V12 787 416 E849 E...</td>\n",
       "      <td>55 145 660 238 99 118 103 2621 2616 158 117 15...</td>\n",
       "      <td>54.0</td>\n",
       "    </tr>\n",
       "  </tbody>\n",
       "</table>\n",
       "<p>44985 rows × 17 columns</p>\n",
       "</div>"
      ],
      "text/plain": [
       "       SUBJECT_ID GENDER  HADM_ID   ADMITTIME   DISCHTIME ADMISSION_TYPE  \\\n",
       "0             100      F   153952  2157-08-10  2157-08-18       ELECTIVE   \n",
       "1            1000      M   143040  2144-01-19  2144-02-25         URGENT   \n",
       "2           10000      M   187813  2186-08-10  2186-08-31      EMERGENCY   \n",
       "3           10003      M   144039  2111-11-21  2111-12-02      EMERGENCY   \n",
       "4           10006      F   142345  2164-10-23  2164-11-01      EMERGENCY   \n",
       "...           ...    ...      ...         ...         ...            ...   \n",
       "44980        9984      F   127830  2136-11-24  2136-11-27      EMERGENCY   \n",
       "44981       99897      M   162913  2181-08-06  2181-08-07      EMERGENCY   \n",
       "44982       99897      M   181057  2182-07-03  2182-07-08      EMERGENCY   \n",
       "44983       99923      M   164914  2201-02-23  2201-03-03      EMERGENCY   \n",
       "44984       99923      M   192053  2201-05-15  2201-05-25      EMERGENCY   \n",
       "\n",
       "              ADMISSION_LOCATION   DISCHARGE_LOCATION INSURANCE LANGUAGE  \\\n",
       "0      PHYS REFERRAL/NORMAL DELI                 HOME   Private      NaN   \n",
       "1      TRANSFER FROM HOSP/EXTRAM         DEAD/EXPIRED   Private      NaN   \n",
       "2      TRANSFER FROM HOSP/EXTRAM  SHORT TERM HOSPITAL  Self Pay     SPAN   \n",
       "3           EMERGENCY ROOM ADMIT                 HOME   Private      NaN   \n",
       "4           EMERGENCY ROOM ADMIT     HOME HEALTH CARE  Medicare      NaN   \n",
       "...                          ...                  ...       ...      ...   \n",
       "44980       EMERGENCY ROOM ADMIT         DEAD/EXPIRED   Private      NaN   \n",
       "44981  CLINIC REFERRAL/PREMATURE                 HOME   Private     HAIT   \n",
       "44982  CLINIC REFERRAL/PREMATURE                 HOME   Private     HAIT   \n",
       "44983  CLINIC REFERRAL/PREMATURE                 HOME   Private     ENGL   \n",
       "44984  CLINIC REFERRAL/PREMATURE     HOME HEALTH CARE   Private     ENGL   \n",
       "\n",
       "                RELIGION MARITAL_STATUS               ETHNICITY  \\\n",
       "0               CATHOLIC        WIDOWED   UNKNOWN/NOT SPECIFIED   \n",
       "1           UNOBTAINABLE        MARRIED   UNKNOWN/NOT SPECIFIED   \n",
       "2               CATHOLIC            NaN      HISPANIC OR LATINO   \n",
       "3                  OTHER        MARRIED  BLACK/AFRICAN AMERICAN   \n",
       "4               CATHOLIC      SEPARATED  BLACK/AFRICAN AMERICAN   \n",
       "...                  ...            ...                     ...   \n",
       "44980           CATHOLIC         SINGLE   UNKNOWN/NOT SPECIFIED   \n",
       "44981  7TH DAY ADVENTIST        MARRIED           BLACK/HAITIAN   \n",
       "44982  7TH DAY ADVENTIST        MARRIED           BLACK/HAITIAN   \n",
       "44983           CATHOLIC        MARRIED                   WHITE   \n",
       "44984           CATHOLIC        MARRIED                   WHITE   \n",
       "\n",
       "                                          ICD9_FULL_CODE  \\\n",
       "0                             4260 4411 4241 42731 99602   \n",
       "1        5789 2773 4280 2851 0380 40391 78559 20300 5185   \n",
       "2      5845 28521 2766 25000 5997 5723 5712 0414 5770...   \n",
       "3      82525 4582 2899 99811 4019 82523 8602 E8798 80708   \n",
       "4      3051 7850 4280 V090 25000 2874 2749 40391 5672...   \n",
       "...                                                  ...   \n",
       "44980           7895 2720 4019 5070 00845 5849 2762 2765   \n",
       "44981  28521 V1581 3572 4280 42832 25040 36201 3659 4...   \n",
       "44982  V5867 25052 25012 5855 3572 36201 2720 V1581 4...   \n",
       "44983  5723 5859 45621 45829 5712 7455 V1582 4561 E93...   \n",
       "44984  79902 5856 5724 5601 5712 V5861 27669 V1582 E8...   \n",
       "\n",
       "                                        ICD9_3DIGIT_CODE  \\\n",
       "0                                    427 426 424 996 441   \n",
       "1                    203 785 277 578 038 518 285 428 403   \n",
       "2      456 577 285 289 286 599 250 403 571 303 584 99...   \n",
       "3                       860 458 998 825 289 E879 401 807   \n",
       "4      305 562 285 428 996 250 403 427 E934 424 995 2...   \n",
       "...                                                  ...   \n",
       "44980                        272 008 584 401 789 276 507   \n",
       "44981  780 584 V15 285 362 428 276 V58 357 365 250 40...   \n",
       "44982  272 584 V15 362 V12 795 428 V58 365 357 250 40...   \n",
       "44983   456 571 458 584 E939 303 V15 745 453 572 276 585   \n",
       "44984  799 571 303 458 997 V15 285 V12 787 416 E849 E...   \n",
       "\n",
       "                                                CCS_CODE   AGE  \n",
       "0                                     106 96 237 115 105  71.0  \n",
       "1                          58 60 131 99 108 153 2 40 249  69.0  \n",
       "2      163 157 55 660 238 152 99 64 49 134 3 211 151 ...  49.0  \n",
       "3                             238 234 98 64 2616 230 231  41.0  \n",
       "4      106 99 96 108 49 2616 148 54 237 2 62 257 663 ...  70.0  \n",
       "...                                                  ...   ...  \n",
       "44980                           157 53 55 98 151 129 135  80.0  \n",
       "44981           259 157 55 99 108 95 50 158 87 88 257 59  53.0  \n",
       "44982       259 157 53 99 108 95 50 158 87 117 10 88 257  54.0  \n",
       "44983        157 213 55 238 118 660 158 151 138 663 2617  54.0  \n",
       "44984  55 145 660 238 99 118 103 2621 2616 158 117 15...  54.0  \n",
       "\n",
       "[44985 rows x 17 columns]"
      ]
     },
     "execution_count": 5,
     "metadata": {},
     "output_type": "execute_result"
    }
   ],
   "source": [
    "data_pretrain = pd.read_csv(os.path.join(data_path, 'mimic3/processed/data_pretrain.csv'))\n",
    "data_pretrain"
   ]
  },
  {
   "cell_type": "code",
   "execution_count": 6,
   "metadata": {
    "ExecuteTime": {
     "end_time": "2022-01-26T09:42:46.004341Z",
     "start_time": "2022-01-26T09:42:45.865142Z"
    }
   },
   "outputs": [
    {
     "name": "stdout",
     "output_type": "stream",
     "text": [
      "ICD9_FULL_CODE\n",
      "max length: 39\n",
      "ICD9_3DIGIT_CODE\n",
      "max length: 39\n",
      "CCS_CODE\n",
      "max length: 34\n"
     ]
    }
   ],
   "source": [
    "for code in ['ICD9_FULL_CODE', 'ICD9_3DIGIT_CODE', 'CCS_CODE']:\n",
    "    print(code)\n",
    "    seqs = data_pretrain[code].tolist()\n",
    "    print(\"max length:\", max([len(seq.split(' ')) for seq in seqs]))\n",
    "    create_directory(os.path.join(data_path, f'mimic3/processed/{code}'))\n",
    "    with open(os.path.join(data_path, f'mimic3/processed/{code}/corpus.txt'), 'w') as f:\n",
    "        for seq in seqs:\n",
    "            f.write(\"%s\\n\" % seq)"
   ]
  },
  {
   "cell_type": "markdown",
   "metadata": {},
   "source": [
    "## run GloVe"
   ]
  },
  {
   "cell_type": "markdown",
   "metadata": {},
   "source": [
    "```\n",
    "cd GloVe && make\n",
    "sh run.sh ../data/mimic3/processed/ICD9_FULL_CODE\n",
    "sh run.sh ../data/mimic3/processed/ICD9_3DIGIT_CODE\n",
    "sh run.sh ../data/mimic3/processed/CCS_CODE\n",
    "```"
   ]
  },
  {
   "cell_type": "markdown",
   "metadata": {},
   "source": [
    "## convert to word2vec format"
   ]
  },
  {
   "cell_type": "code",
   "execution_count": 7,
   "metadata": {
    "ExecuteTime": {
     "end_time": "2022-01-26T00:10:40.503767Z",
     "start_time": "2022-01-26T00:10:40.500844Z"
    }
   },
   "outputs": [],
   "source": [
    "from gensim.test.utils import datapath, get_tmpfile\n",
    "from gensim.scripts.glove2word2vec import glove2word2vec"
   ]
  },
  {
   "cell_type": "code",
   "execution_count": 8,
   "metadata": {
    "ExecuteTime": {
     "end_time": "2022-01-26T00:10:42.107437Z",
     "start_time": "2022-01-26T00:10:40.676908Z"
    }
   },
   "outputs": [
    {
     "name": "stdout",
     "output_type": "stream",
     "text": [
      "ICD9_FULL_CODE\n"
     ]
    },
    {
     "name": "stderr",
     "output_type": "stream",
     "text": [
      "/tmp/ipykernel_1694655/3096377087.py:5: DeprecationWarning: Call to deprecated `glove2word2vec` (KeyedVectors.load_word2vec_format(.., binary=False, no_header=True) loads GLoVE text vectors.).\n",
      "  glove2word2vec(glove_file, tmp_file)\n"
     ]
    },
    {
     "name": "stdout",
     "output_type": "stream",
     "text": [
      "ICD9_3DIGIT_CODE\n",
      "CCS_CODE\n"
     ]
    }
   ],
   "source": [
    "for code in ['ICD9_FULL_CODE', 'ICD9_3DIGIT_CODE', 'CCS_CODE']:\n",
    "    print(code)\n",
    "    glove_file = datapath(os.path.join(data_path, f'mimic3/processed/{code}/vectors.txt'))\n",
    "    tmp_file = get_tmpfile(os.path.join(data_path, f'mimic3/processed/{code}/word2vec.txt'))\n",
    "    glove2word2vec(glove_file, tmp_file)"
   ]
  },
  {
   "cell_type": "code",
   "execution_count": null,
   "metadata": {},
   "outputs": [],
   "source": []
  }
 ],
 "metadata": {
  "kernelspec": {
   "display_name": "pytorch20",
   "language": "python",
   "name": "pytorch20"
  },
  "language_info": {
   "codemirror_mode": {
    "name": "ipython",
    "version": 3
   },
   "file_extension": ".py",
   "mimetype": "text/x-python",
   "name": "python",
   "nbconvert_exporter": "python",
   "pygments_lexer": "ipython3",
   "version": "3.8.18"
  },
  "toc": {
   "base_numbering": 1,
   "nav_menu": {},
   "number_sections": false,
   "sideBar": true,
   "skip_h1_title": true,
   "title_cell": "Table of Contents",
   "title_sidebar": "Contents",
   "toc_cell": false,
   "toc_position": {},
   "toc_section_display": true,
   "toc_window_display": false
  }
 },
 "nbformat": 4,
 "nbformat_minor": 4
}
